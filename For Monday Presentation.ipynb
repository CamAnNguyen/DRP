{
 "cells": [
  {
   "cell_type": "code",
   "execution_count": 3,
   "metadata": {
    "collapsed": true
   },
   "outputs": [],
   "source": [
    "from DRP.models import Compound, CompoundQuantity"
   ]
  },
  {
   "cell_type": "code",
   "execution_count": 4,
   "metadata": {
    "collapsed": false
   },
   "outputs": [],
   "source": [
    "smiles_strings = [i.compound.smiles for i in CompoundQuantity.objects.all() if i.role.label == 'Org']"
   ]
  },
  {
   "cell_type": "code",
   "execution_count": 5,
   "metadata": {
    "collapsed": false
   },
   "outputs": [
    {
     "data": {
      "text/plain": [
       "list"
      ]
     },
     "execution_count": 5,
     "metadata": {},
     "output_type": "execute_result"
    }
   ],
   "source": [
    "type(smiles_strings)"
   ]
  },
  {
   "cell_type": "code",
   "execution_count": 6,
   "metadata": {
    "collapsed": false
   },
   "outputs": [
    {
     "data": {
      "text/plain": [
       "['CCO',\n",
       " 'C(N)N',\n",
       " 'CNCCN',\n",
       " 'C(CN)N',\n",
       " 'CNCCCN',\n",
       " 'CNCCNC',\n",
       " 'CC(CN)N',\n",
       " 'CNCCCNC',\n",
       " 'CCCNCCN',\n",
       " 'CCC(C)N',\n",
       " 'C(CN)CN',\n",
       " 'CCNCCNCC',\n",
       " 'C1CNCCN1',\n",
       " 'CCCCCCCC',\n",
       " 'c1cnccn1',\n",
       " 'CCCNCCCN',\n",
       " 'C(CCN)CN',\n",
       " 'Cc1cnccn1',\n",
       " 'C(CNCCN)N',\n",
       " 'CN1CCNCC1',\n",
       " 'CCCCCCCNC',\n",
       " 'CN(C)CCCN',\n",
       " 'C1CNCCNC1',\n",
       " 'C1CNCCC1N',\n",
       " 'CC1CNCCN1',\n",
       " 'C(CCN)CCN',\n",
       " 'CNCCCCCCNC',\n",
       " 'CNC1CCNCC1',\n",
       " 'CCN(C)CCNC',\n",
       " 'CNCCCN(C)C',\n",
       " 'c1cnc[nH]1',\n",
       " 'CC(C)NCCCN',\n",
       " 'CCN1CCNCC1',\n",
       " 'CC(CCCN)CN',\n",
       " 'C(CCCN)CCN',\n",
       " 'C1CNCCC1CN',\n",
       " 'CC(C(=O)O)N',\n",
       " 'C(CCCN)CCCN',\n",
       " 'CCN(CC)CCCN',\n",
       " 'CC(CN(C)C)N',\n",
       " 'CCCCCCC(C)N',\n",
       " 'CCN1CCCC1CN',\n",
       " 'C1CCNC(C1)N',\n",
       " 'CN1CCCC1CCN',\n",
       " 'CC(C)(CN)CN',\n",
       " 'CC1C(NCCN1)C',\n",
       " 'C1CN2CCN1CC2',\n",
       " 'CN1CCN(CC1)N',\n",
       " 'CN1CCN(CC1)C',\n",
       " 'C1CNC[C@H]1N',\n",
       " 'Cc1cnc(cn1)C',\n",
       " 'c1ccnc(c1)CN',\n",
       " 'C1CC(CNC1)CN',\n",
       " 'C(CNCCNCCN)N',\n",
       " 'C(CCNCCCN)CN',\n",
       " 'C(CCCCN)CCCN',\n",
       " 'CCCCN1CCNCC1',\n",
       " 'CN(C)C1CCNC1',\n",
       " 'CN(C)CCN(C)C',\n",
       " 'CC1CNC(CN1)C',\n",
       " 'C1CCN(C1)CCN',\n",
       " 'CC1CNCC(N1)C',\n",
       " 'C1CN(CCN1)CCN',\n",
       " 'CN(C)CCCN(C)C',\n",
       " 'C1CCN(C1)CCCN',\n",
       " 'C(CCCCN)CCCCN',\n",
       " 'C1CCN(CC1)CCN',\n",
       " 'C[C@H]1CNCCN1',\n",
       " 'Cc1ccnc(c1C)C',\n",
       " 'CN(C)CCCCN(C)C',\n",
       " 'C(CCCCCN)CCCCN',\n",
       " 'CC(C)NCCNC(C)C',\n",
       " 'c1cc(ccc1CN)CN',\n",
       " 'C1CCC(C(C1)N)N',\n",
       " 'C(CN(CCN)CCN)N',\n",
       " 'C[C@@H]1CNCCN1',\n",
       " 'C(CNCCNCCN)N.O',\n",
       " 'C1CNCC1N.Cl.Cl',\n",
       " 'c1cc(cnc1)N.Cl',\n",
       " 'C(CCN)CN.Cl.Cl',\n",
       " 'c1cc(ccc1O)O.Cl',\n",
       " 'CCCCN(CCCC)CCCN',\n",
       " 'CCC(CN)N1CCCCC1',\n",
       " 'CCN=C=NCCCN(C)C',\n",
       " 'CC(C)(CN)CN(C)C',\n",
       " 'Cl.CN1CCN(C)CC1',\n",
       " 'CCN(CC)CCCC(C)N',\n",
       " 'CN(C)CCN1CCNCC1',\n",
       " 'C1CN2CCC1C(C2)N',\n",
       " 'c1c(nc(nc1N)N)N',\n",
       " 'CN1CN(CN(C1)C)C',\n",
       " 'C(CNCCNCCNCCN)N',\n",
       " 'CC(CCN(C)C)N(C)C',\n",
       " 'CN(C)CCCCCCN(C)C',\n",
       " 'CCCCCCCCN1CCNCC1',\n",
       " 'C(CCNCCCN)CNCCCN',\n",
       " 'C1CC(CC(C1)CN)CN',\n",
       " 'CN(C)CCCN1CCNCC1',\n",
       " 'C1CNCCNCCCNCCNC1',\n",
       " 'Cl.N[C@@H]1CCNC1',\n",
       " 'c1(nc(nc(n1)N)N)N',\n",
       " 'C1CC(CNC1)N.Cl.Cl',\n",
       " 'C1CCN(C1)C2CCNCC2',\n",
       " 'C1N2CN3CN1CN(C2)C3',\n",
       " 'C(CNCCNCCNCCNCCN)N',\n",
       " 'C1CCC(CC1)N2CCNCC2',\n",
       " 'c1ccnc(c1)c2ccccn2',\n",
       " 'C1CNC[C@H]1N.Cl.Cl',\n",
       " 'C1CN(CCN1CCCN)CCCN',\n",
       " 'CN1CCC(CC1)N2CCNCC2',\n",
       " 'c1cc(ccc1N)N2CCNCC2',\n",
       " 'C1CNCCC1CCCC2CCNCC2',\n",
       " 'C1CN2CCC1C(C2)N.Cl.Cl',\n",
       " 'C1C[C@H](CNC1)N.Cl.Cl',\n",
       " 'CC1(CC(CC(N1)(C)C)N)C',\n",
       " 'c1ccc2c(c1)C(=N)NC2=N',\n",
       " 'C(CCN)C[C@@H](C(=O)O)N',\n",
       " 'CC1(CC(CC(C1)(C)CN)N)C',\n",
       " 'C1C[C@@H](CNC1)N.Cl.Cl',\n",
       " 'c1cc(ccc1C(=N)N)N.Cl.Cl',\n",
       " 'CCCCn1cc[n+](c1)C.[Br-]',\n",
       " 'C1CN2CCC1[C@H](C2)N.Cl.Cl',\n",
       " 'CN1CCC(CC1)CCCC2CCN(CC2)C',\n",
       " 'C1CN2CCC1[C@@H](C2)N.Cl.Cl',\n",
       " 'CC1CC(CCC1N)CC2CCC(C(C2)C)N',\n",
       " 'c1ccc2c(c1)[nH]c(n2)NC(=N)N',\n",
       " 'CCCC[N+](CCCC)(CCCC)CCCC.[Br-]',\n",
       " '[O-]S([O-])(=O)(=O).[NH3+]CCCCCCC[NH3+]',\n",
       " '[H+].CN(C)c1ccc(cc1)C(=N)c2ccc(cc2)N(C)C.[Cl-]']"
      ]
     },
     "execution_count": 6,
     "metadata": {},
     "output_type": "execute_result"
    }
   ],
   "source": [
    "sorted(list(set(smiles_strings)), key=(lambda x : len(x)))"
   ]
  },
  {
   "cell_type": "code",
   "execution_count": null,
   "metadata": {
    "collapsed": true
   },
   "outputs": [],
   "source": []
  }
 ],
 "metadata": {
  "kernelspec": {
   "display_name": "Django Shell-Plus",
   "language": "python",
   "name": "django_extensions"
  },
  "language_info": {
   "codemirror_mode": {
    "name": "ipython",
    "version": 3
   },
   "file_extension": ".py",
   "mimetype": "text/x-python",
   "name": "python",
   "nbconvert_exporter": "python",
   "pygments_lexer": "ipython3",
   "version": "3.4.3"
  }
 },
 "nbformat": 4,
 "nbformat_minor": 0
}
