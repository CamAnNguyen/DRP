{
 "cells": [
  {
   "cell_type": "code",
   "execution_count": 1,
   "metadata": {
    "collapsed": true
   },
   "outputs": [],
   "source": [
    "from DRP.models import CompoundQuantity, BoolRxnDescriptor"
   ]
  },
  {
   "cell_type": "code",
   "execution_count": 2,
   "metadata": {
    "collapsed": false
   },
   "outputs": [],
   "source": [
    "compound_set = set()"
   ]
  },
  {
   "cell_type": "code",
   "execution_count": 3,
   "metadata": {
    "collapsed": false
   },
   "outputs": [],
   "source": [
    "# for comp in CompoundQuantity.objects.all():\n",
    "#     compound_set.add((comp.compound, comp.role))"
   ]
  },
  {
   "cell_type": "code",
   "execution_count": 4,
   "metadata": {
    "collapsed": false
   },
   "outputs": [
    {
     "data": {
      "text/plain": [
       "set()"
      ]
     },
     "execution_count": 4,
     "metadata": {},
     "output_type": "execute_result"
    }
   ],
   "source": [
    "compound_set"
   ]
  },
  {
   "cell_type": "code",
   "execution_count": 5,
   "metadata": {
    "collapsed": true
   },
   "outputs": [],
   "source": [
    "def get_compound_set(role):\n",
    "    compound_set = set()\n",
    "    for comp in CompoundQuantity.objects.filter(role=role):\n",
    "        compound_set.add(comp.compound)"
   ]
  },
  {
   "cell_type": "code",
   "execution_count": 6,
   "metadata": {
    "collapsed": false
   },
   "outputs": [],
   "source": [
    "from DRP.recommender.ReactionRecommender import Recommender"
   ]
  },
  {
   "cell_type": "code",
   "execution_count": 7,
   "metadata": {
    "collapsed": true
   },
   "outputs": [],
   "source": [
    "from DRP.recommender.SampleGridParameters import GridValueGenerator\n",
    "from DRP.recommender.ReactionGenerator import ReactionGenerator\n"
   ]
  },
  {
   "cell_type": "code",
   "execution_count": 8,
   "metadata": {
    "collapsed": false,
    "scrolled": true
   },
   "outputs": [
    {
     "name": "stdout",
     "output_type": "stream",
     "text": [
      "{<NumericDescriptor: Reaction temperature in degrees C>: [363.15], <NumericDescriptor: Reaction time in minutes>: [1440], <NumericDescriptor: Reaction pH>: [1]}\n"
     ]
    }
   ],
   "source": [
    "a = Recommender(ModelContainer.objects.get(pk=1),  GridValueGenerator().main(), {BoolRxnDescriptor.objects.get(pk=2):[True]})"
   ]
  },
  {
   "cell_type": "code",
   "execution_count": 9,
   "metadata": {
    "collapsed": false,
    "scrolled": true
   },
   "outputs": [
    {
     "name": "stdout",
     "output_type": "stream",
     "text": [
      "count 9038\n"
     ]
    }
   ],
   "source": [
    "a.get_lshash()"
   ]
  },
  {
   "cell_type": "code",
   "execution_count": 10,
   "metadata": {
    "collapsed": false
   },
   "outputs": [
    {
     "name": "stdout",
     "output_type": "stream",
     "text": [
      "<lshash.lshash.LSHash object at 0x7f1359ee3a10>\n"
     ]
    }
   ],
   "source": [
    "print a.lshash"
   ]
  },
  {
   "cell_type": "code",
   "execution_count": 11,
   "metadata": {
    "collapsed": false,
    "scrolled": true
   },
   "outputs": [
    {
     "data": {
      "text/plain": [
       "[((403.15, 1200.0), 0.0),\n",
       " ((398.15, 1200.0), 25.0),\n",
       " ((413.15, 1200.0), 100.0),\n",
       " ((423.15, 1200.0), 400.0),\n",
       " ((373.15, 1200.0), 900.0),\n",
       " ((363.15, 1200.0), 1600.0),\n",
       " ((393.15, 1260.0), 3700.0),\n",
       " ((363.15, 1140.0), 5200.0),\n",
       " ((363.15, 1260.0), 5200.0),\n",
       " ((373.15, 1290.0), 9000.0),\n",
       " ((363.15, 1110.0), 9700.0),\n",
       " ((423.15, 1320.0), 14800.0),\n",
       " ((383.15, 1080.0), 14800.0),\n",
       " ((363.15, 1080.0), 16000.0),\n",
       " ((363.15, 1380.0), 34000.0),\n",
       " ((363.15, 1020.0), 34000.0),\n",
       " ((403.15, 1440.0), 57600.0),\n",
       " ((393.15, 1440.0), 57700.0),\n",
       " ((388.15, 1440.0), 57825.0),\n",
       " ((383.15, 1440.0), 58000.0)]"
      ]
     },
     "execution_count": 11,
     "metadata": {},
     "output_type": "execute_result"
    }
   ],
   "source": [
    "a.lshash.query((403.15, 1200.0), num_results=20)"
   ]
  },
  {
   "cell_type": "code",
   "execution_count": 12,
   "metadata": {
    "collapsed": true
   },
   "outputs": [],
   "source": [
    "from DRP.models import RecommendedReaction"
   ]
  },
  {
   "cell_type": "code",
   "execution_count": null,
   "metadata": {
    "collapsed": false
   },
   "outputs": [
    {
     "data": {
      "text/plain": [
       "0"
      ]
     },
     "execution_count": 13,
     "metadata": {},
     "output_type": "execute_result"
    }
   ],
   "source": [
    "len(RecommendedReaction.objects.all())"
   ]
  },
  {
   "cell_type": "code",
   "execution_count": null,
   "metadata": {
    "collapsed": false
   },
   "outputs": [
    {
     "name": "stdout",
     "output_type": "stream",
     "text": [
      "<xxhash.xxh64 object at 0x7f135a787f80> -0.000510276572978\n",
      "<xxhash.xxh64 object at 0x7f135a787110> -0.000510276572983\n",
      "<xxhash.xxh64 object at 0x7f135a7870a0> -0.000510276572978\n",
      "<xxhash.xxh64 object at 0x7f135a787ab0> -0.000510276572982\n",
      "[[<Compound: Compound object>, <Compound: Compound object>, <Compound: Compound object>]]\n",
      "step1\n",
      "step2\n"
     ]
    }
   ],
   "source": [
    "a.recommend(k=1)"
   ]
  },
  {
   "cell_type": "code",
   "execution_count": null,
   "metadata": {
    "collapsed": true
   },
   "outputs": [],
   "source": [
    "from DRP.models import CategoricalDescriptorPermittedValue"
   ]
  },
  {
   "cell_type": "code",
   "execution_count": null,
   "metadata": {
    "collapsed": false
   },
   "outputs": [],
   "source": [
    "for i in CategoricalDescriptorPermittedValue.objects.all():\n",
    "    print i.pk, i.value"
   ]
  },
  {
   "cell_type": "code",
   "execution_count": null,
   "metadata": {
    "collapsed": true
   },
   "outputs": [],
   "source": [
    "len(RecommendedReaction.objects.all())"
   ]
  }
 ],
 "metadata": {
  "kernelspec": {
   "display_name": "Django Shell-Plus",
   "language": "python",
   "name": "django_extensions"
  },
  "language_info": {
   "codemirror_mode": {
    "name": "ipython",
    "version": 2
   },
   "file_extension": ".py",
   "mimetype": "text/x-python",
   "name": "python",
   "nbconvert_exporter": "python",
   "pygments_lexer": "ipython2",
   "version": "2.7.6"
  }
 },
 "nbformat": 4,
 "nbformat_minor": 0
}
