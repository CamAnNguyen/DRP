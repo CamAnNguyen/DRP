{
 "cells": [
  {
   "cell_type": "code",
   "execution_count": 1,
   "metadata": {
    "collapsed": true
   },
   "outputs": [],
   "source": [
    "from DRP.recommender.SampleGridParameters import GridValueGenerator"
   ]
  },
  {
   "cell_type": "code",
   "execution_count": 2,
   "metadata": {
    "collapsed": true
   },
   "outputs": [],
   "source": [
    "from DRP.recommender.ReactionGenerator import ReactionGenerator"
   ]
  },
  {
   "cell_type": "code",
   "execution_count": 3,
   "metadata": {
    "collapsed": false
   },
   "outputs": [],
   "source": [
    "a = GridValueGenerator().main()\n",
    "react_gen = ReactionGenerator(*a)"
   ]
  },
  {
   "cell_type": "code",
   "execution_count": 4,
   "metadata": {
    "collapsed": false
   },
   "outputs": [
    {
     "data": {
      "text/plain": [
       "<DRP.recommender.ReactionGenerator.ReactionGenerator at 0x7f028f051090>"
      ]
     },
     "execution_count": 4,
     "metadata": {},
     "output_type": "execute_result"
    }
   ],
   "source": [
    "react_gen"
   ]
  },
  {
   "cell_type": "code",
   "execution_count": 5,
   "metadata": {
    "collapsed": true
   },
   "outputs": [],
   "source": [
    "example_list = []"
   ]
  },
  {
   "cell_type": "code",
   "execution_count": 6,
   "metadata": {
    "collapsed": false
   },
   "outputs": [
    {
     "name": "stdout",
     "output_type": "stream",
     "text": [
      "<class 'DRP.models.descriptors.NumericDescriptor'>\n",
      "<class 'DRP.models.descriptors.NumericDescriptor'>\n",
      "<class 'DRP.models.descriptors.NumericDescriptor'>\n",
      "<class 'DRP.models.descriptors.NumericDescriptor'>\n",
      "<class 'DRP.models.descriptors.NumericDescriptor'>\n",
      "<class 'DRP.models.descriptors.NumericDescriptor'>\n",
      "<class 'DRP.models.descriptors.NumericDescriptor'>\n",
      "<class 'DRP.models.descriptors.NumericDescriptor'>\n",
      "<class 'DRP.models.descriptors.NumericDescriptor'>\n",
      "<class 'DRP.models.descriptors.NumericDescriptor'>\n",
      "<class 'DRP.models.descriptors.NumericDescriptor'>\n",
      "<class 'DRP.models.descriptors.NumericDescriptor'>\n",
      "<class 'DRP.models.descriptors.NumericDescriptor'>\n",
      "<class 'DRP.models.descriptors.NumericDescriptor'>\n",
      "<class 'DRP.models.descriptors.NumericDescriptor'>\n",
      "<class 'DRP.models.descriptors.NumericDescriptor'>\n",
      "<class 'DRP.models.descriptors.NumericDescriptor'>\n",
      "<class 'DRP.models.descriptors.NumericDescriptor'>\n",
      "<class 'DRP.models.descriptors.NumericDescriptor'>\n",
      "<class 'DRP.models.descriptors.NumericDescriptor'>\n",
      "<class 'DRP.models.descriptors.NumericDescriptor'>\n",
      "<class 'DRP.models.descriptors.NumericDescriptor'>\n",
      "<class 'DRP.models.descriptors.NumericDescriptor'>\n",
      "<class 'DRP.models.descriptors.NumericDescriptor'>\n",
      "<class 'DRP.models.descriptors.NumericDescriptor'>\n",
      "<class 'DRP.models.descriptors.NumericDescriptor'>\n",
      "<class 'DRP.models.descriptors.NumericDescriptor'>\n",
      "<class 'DRP.models.descriptors.NumericDescriptor'>\n",
      "<class 'DRP.models.descriptors.NumericDescriptor'>\n",
      "<class 'DRP.models.descriptors.NumericDescriptor'>\n",
      "<class 'DRP.models.descriptors.NumericDescriptor'>\n",
      "<class 'DRP.models.descriptors.NumericDescriptor'>\n",
      "<class 'DRP.models.descriptors.NumericDescriptor'>\n",
      "<class 'DRP.models.descriptors.NumericDescriptor'>\n",
      "<class 'DRP.models.descriptors.NumericDescriptor'>\n",
      "<class 'DRP.models.descriptors.NumericDescriptor'>\n",
      "<class 'DRP.models.descriptors.NumericDescriptor'>\n",
      "<class 'DRP.models.descriptors.NumericDescriptor'>\n",
      "<class 'DRP.models.descriptors.NumericDescriptor'>\n",
      "<class 'DRP.models.descriptors.NumericDescriptor'>\n",
      "<class 'DRP.models.descriptors.NumericDescriptor'>\n",
      "<class 'DRP.models.descriptors.NumericDescriptor'>\n",
      "<class 'DRP.models.descriptors.NumericDescriptor'>\n",
      "<class 'DRP.models.descriptors.NumericDescriptor'>\n",
      "<class 'DRP.models.descriptors.NumericDescriptor'>\n",
      "<class 'DRP.models.descriptors.NumericDescriptor'>\n",
      "<class 'DRP.models.descriptors.NumericDescriptor'>\n",
      "<class 'DRP.models.descriptors.NumericDescriptor'>\n",
      "<class 'DRP.models.descriptors.NumericDescriptor'>\n",
      "<class 'DRP.models.descriptors.NumericDescriptor'>\n",
      "<class 'DRP.models.descriptors.NumericDescriptor'>\n",
      "<class 'DRP.models.descriptors.NumericDescriptor'>\n",
      "<class 'DRP.models.descriptors.NumericDescriptor'>\n",
      "<class 'DRP.models.descriptors.NumericDescriptor'>\n",
      "<class 'DRP.models.descriptors.NumericDescriptor'>\n",
      "<class 'DRP.models.descriptors.NumericDescriptor'>\n",
      "<class 'DRP.models.descriptors.NumericDescriptor'>\n",
      "<class 'DRP.models.descriptors.NumericDescriptor'>\n",
      "<class 'DRP.models.descriptors.NumericDescriptor'>\n",
      "<class 'DRP.models.descriptors.NumericDescriptor'>\n",
      "<class 'DRP.models.descriptors.NumericDescriptor'>\n",
      "<class 'DRP.models.descriptors.NumericDescriptor'>\n",
      "<class 'DRP.models.descriptors.NumericDescriptor'>\n",
      "<class 'DRP.models.descriptors.NumericDescriptor'>\n",
      "<class 'DRP.models.descriptors.NumericDescriptor'>\n",
      "<class 'DRP.models.descriptors.NumericDescriptor'>\n",
      "<class 'DRP.models.descriptors.NumericDescriptor'>\n",
      "<class 'DRP.models.descriptors.NumericDescriptor'>\n",
      "<class 'DRP.models.descriptors.NumericDescriptor'>\n",
      "<class 'DRP.models.descriptors.NumericDescriptor'>\n",
      "<class 'DRP.models.descriptors.NumericDescriptor'>\n",
      "<class 'DRP.models.descriptors.NumericDescriptor'>\n",
      "<class 'DRP.models.descriptors.NumericDescriptor'>\n",
      "<class 'DRP.models.descriptors.NumericDescriptor'>\n",
      "<class 'DRP.models.descriptors.NumericDescriptor'>\n",
      "<class 'DRP.models.descriptors.NumericDescriptor'>\n",
      "<class 'DRP.models.descriptors.NumericDescriptor'>\n",
      "<class 'DRP.models.descriptors.NumericDescriptor'>\n",
      "<class 'DRP.models.descriptors.NumericDescriptor'>\n",
      "<class 'DRP.models.descriptors.NumericDescriptor'>\n",
      "<class 'DRP.models.descriptors.NumericDescriptor'>\n",
      "<class 'DRP.models.descriptors.NumericDescriptor'>\n",
      "<class 'DRP.models.descriptors.NumericDescriptor'>\n",
      "<class 'DRP.models.descriptors.NumericDescriptor'>\n",
      "<class 'DRP.models.descriptors.NumericDescriptor'>\n",
      "<class 'DRP.models.descriptors.NumericDescriptor'>\n",
      "<class 'DRP.models.descriptors.NumericDescriptor'>\n",
      "<class 'DRP.models.descriptors.NumericDescriptor'>\n",
      "<class 'DRP.models.descriptors.NumericDescriptor'>\n",
      "<class 'DRP.models.descriptors.NumericDescriptor'>\n",
      "<class 'DRP.models.descriptors.NumericDescriptor'>\n",
      "<class 'DRP.models.descriptors.NumericDescriptor'>\n",
      "<class 'DRP.models.descriptors.NumericDescriptor'>\n",
      "<class 'DRP.models.descriptors.NumericDescriptor'>\n",
      "<class 'DRP.models.descriptors.NumericDescriptor'>\n",
      "<class 'DRP.models.descriptors.NumericDescriptor'>\n",
      "<class 'DRP.models.descriptors.NumericDescriptor'>\n",
      "<class 'DRP.models.descriptors.NumericDescriptor'>\n",
      "<class 'DRP.models.descriptors.NumericDescriptor'>\n",
      "<class 'DRP.models.descriptors.NumericDescriptor'>\n",
      "<class 'DRP.models.descriptors.NumericDescriptor'>\n",
      "<class 'DRP.models.descriptors.NumericDescriptor'>\n",
      "<class 'DRP.models.descriptors.NumericDescriptor'>\n",
      "<class 'DRP.models.descriptors.NumericDescriptor'>\n",
      "<class 'DRP.models.descriptors.NumericDescriptor'>\n",
      "<class 'DRP.models.descriptors.NumericDescriptor'>\n",
      "<class 'DRP.models.descriptors.NumericDescriptor'>\n",
      "<class 'DRP.models.descriptors.NumericDescriptor'>\n",
      "<class 'DRP.models.descriptors.NumericDescriptor'>\n",
      "<class 'DRP.models.descriptors.NumericDescriptor'>\n",
      "<class 'DRP.models.descriptors.NumericDescriptor'>\n",
      "<class 'DRP.models.descriptors.NumericDescriptor'>\n",
      "<class 'DRP.models.descriptors.NumericDescriptor'>\n",
      "<class 'DRP.models.descriptors.NumericDescriptor'>\n",
      "<class 'DRP.models.descriptors.NumericDescriptor'>\n",
      "<class 'DRP.models.descriptors.NumericDescriptor'>\n",
      "<class 'DRP.models.descriptors.NumericDescriptor'>\n",
      "<class 'DRP.models.descriptors.NumericDescriptor'>\n",
      "<class 'DRP.models.descriptors.NumericDescriptor'>\n",
      "<class 'DRP.models.descriptors.NumericDescriptor'>\n",
      "<class 'DRP.models.descriptors.NumericDescriptor'>\n",
      "<class 'DRP.models.descriptors.NumericDescriptor'>\n",
      "<class 'DRP.models.descriptors.NumericDescriptor'>\n",
      "<class 'DRP.models.descriptors.NumericDescriptor'>\n",
      "<class 'DRP.models.descriptors.NumericDescriptor'>\n",
      "<class 'DRP.models.descriptors.NumericDescriptor'>\n",
      "<class 'DRP.models.descriptors.NumericDescriptor'>\n",
      "<class 'DRP.models.descriptors.NumericDescriptor'>\n",
      "<class 'DRP.models.descriptors.NumericDescriptor'>\n",
      "<class 'DRP.models.descriptors.NumericDescriptor'>\n",
      "<class 'DRP.models.descriptors.NumericDescriptor'>\n",
      "<class 'DRP.models.descriptors.NumericDescriptor'>\n",
      "<class 'DRP.models.descriptors.NumericDescriptor'>\n",
      "<class 'DRP.models.descriptors.NumericDescriptor'>\n",
      "<class 'DRP.models.descriptors.NumericDescriptor'>\n",
      "<class 'DRP.models.descriptors.NumericDescriptor'>\n",
      "<class 'DRP.models.descriptors.NumericDescriptor'>\n",
      "<class 'DRP.models.descriptors.NumericDescriptor'>\n",
      "<class 'DRP.models.descriptors.NumericDescriptor'>\n",
      "<class 'DRP.models.descriptors.NumericDescriptor'>\n",
      "<class 'DRP.models.descriptors.NumericDescriptor'>\n",
      "<class 'DRP.models.descriptors.NumericDescriptor'>\n",
      "<class 'DRP.models.descriptors.NumericDescriptor'>\n",
      "<class 'DRP.models.descriptors.NumericDescriptor'>\n",
      "<class 'DRP.models.descriptors.NumericDescriptor'>\n",
      "<class 'DRP.models.descriptors.NumericDescriptor'>\n",
      "<class 'DRP.models.descriptors.NumericDescriptor'>\n",
      "<class 'DRP.models.descriptors.NumericDescriptor'>\n",
      "<class 'DRP.models.descriptors.NumericDescriptor'>\n",
      "<class 'DRP.models.descriptors.NumericDescriptor'>\n",
      "<class 'DRP.models.descriptors.NumericDescriptor'>\n",
      "<class 'DRP.models.descriptors.NumericDescriptor'>\n",
      "<class 'DRP.models.descriptors.NumericDescriptor'>\n",
      "<class 'DRP.models.descriptors.NumericDescriptor'>\n",
      "<class 'DRP.models.descriptors.NumericDescriptor'>\n",
      "<class 'DRP.models.descriptors.NumericDescriptor'>\n",
      "<class 'DRP.models.descriptors.NumericDescriptor'>\n",
      "<class 'DRP.models.descriptors.NumericDescriptor'>\n",
      "<class 'DRP.models.descriptors.NumericDescriptor'>\n",
      "<class 'DRP.models.descriptors.NumericDescriptor'>\n",
      "<class 'DRP.models.descriptors.NumericDescriptor'>\n",
      "<class 'DRP.models.descriptors.NumericDescriptor'>\n",
      "<class 'DRP.models.descriptors.NumericDescriptor'>\n",
      "<class 'DRP.models.descriptors.NumericDescriptor'>\n",
      "<class 'DRP.models.descriptors.NumericDescriptor'>\n",
      "<class 'DRP.models.descriptors.NumericDescriptor'>\n",
      "<class 'DRP.models.descriptors.NumericDescriptor'>\n",
      "<class 'DRP.models.descriptors.NumericDescriptor'>\n",
      "<class 'DRP.models.descriptors.NumericDescriptor'>\n",
      "<class 'DRP.models.descriptors.NumericDescriptor'>\n",
      "<class 'DRP.models.descriptors.NumericDescriptor'>\n",
      "<class 'DRP.models.descriptors.NumericDescriptor'>\n",
      "<class 'DRP.models.descriptors.NumericDescriptor'>\n",
      "<class 'DRP.models.descriptors.NumericDescriptor'>\n",
      "<class 'DRP.models.descriptors.NumericDescriptor'>\n",
      "<class 'DRP.models.descriptors.NumericDescriptor'>\n",
      "<class 'DRP.models.descriptors.NumericDescriptor'>\n",
      "<class 'DRP.models.descriptors.NumericDescriptor'>\n",
      "<class 'DRP.models.descriptors.NumericDescriptor'>\n",
      "<class 'DRP.models.descriptors.NumericDescriptor'>\n",
      "<class 'DRP.models.descriptors.NumericDescriptor'>\n",
      "<class 'DRP.models.descriptors.NumericDescriptor'>\n",
      "<class 'DRP.models.descriptors.NumericDescriptor'>\n",
      "<class 'DRP.models.descriptors.NumericDescriptor'>\n",
      "<class 'DRP.models.descriptors.NumericDescriptor'>\n",
      "<class 'DRP.models.descriptors.NumericDescriptor'>\n",
      "<class 'DRP.models.descriptors.NumericDescriptor'>\n",
      "<class 'DRP.models.descriptors.NumericDescriptor'>\n",
      "<class 'DRP.models.descriptors.NumericDescriptor'>\n",
      "<class 'DRP.models.descriptors.NumericDescriptor'>\n",
      "<class 'DRP.models.descriptors.NumericDescriptor'>\n",
      "<class 'DRP.models.descriptors.NumericDescriptor'>\n",
      "<class 'DRP.models.descriptors.NumericDescriptor'>\n",
      "<class 'DRP.models.descriptors.NumericDescriptor'>\n",
      "<class 'DRP.models.descriptors.NumericDescriptor'>\n",
      "<class 'DRP.models.descriptors.NumericDescriptor'>\n",
      "<class 'DRP.models.descriptors.NumericDescriptor'>\n",
      "<class 'DRP.models.descriptors.NumericDescriptor'>\n",
      "<class 'DRP.models.descriptors.NumericDescriptor'>\n",
      "<class 'DRP.models.descriptors.NumericDescriptor'>\n",
      "<class 'DRP.models.descriptors.NumericDescriptor'>\n",
      "<class 'DRP.models.descriptors.NumericDescriptor'>\n",
      "<class 'DRP.models.descriptors.NumericDescriptor'>\n",
      "<class 'DRP.models.descriptors.NumericDescriptor'>\n",
      "<class 'DRP.models.descriptors.NumericDescriptor'>\n",
      "<class 'DRP.models.descriptors.NumericDescriptor'>\n",
      "<class 'DRP.models.descriptors.NumericDescriptor'>\n",
      "<class 'DRP.models.descriptors.NumericDescriptor'>\n",
      "<class 'DRP.models.descriptors.NumericDescriptor'>\n",
      "<class 'DRP.models.descriptors.NumericDescriptor'>\n",
      "<class 'DRP.models.descriptors.NumericDescriptor'>\n",
      "<class 'DRP.models.descriptors.NumericDescriptor'>\n",
      "<class 'DRP.models.descriptors.NumericDescriptor'>\n",
      "<class 'DRP.models.descriptors.NumericDescriptor'>\n",
      "<class 'DRP.models.descriptors.NumericDescriptor'>\n",
      "<class 'DRP.models.descriptors.NumericDescriptor'>\n",
      "<class 'DRP.models.descriptors.NumericDescriptor'>\n",
      "<class 'DRP.models.descriptors.NumericDescriptor'>\n",
      "<class 'DRP.models.descriptors.NumericDescriptor'>\n",
      "<class 'DRP.models.descriptors.NumericDescriptor'>\n",
      "<class 'DRP.models.descriptors.NumericDescriptor'>\n",
      "<class 'DRP.models.descriptors.NumericDescriptor'>\n",
      "<class 'DRP.models.descriptors.NumericDescriptor'>\n",
      "<class 'DRP.models.descriptors.NumericDescriptor'>\n",
      "<class 'DRP.models.descriptors.NumericDescriptor'>\n",
      "<class 'DRP.models.descriptors.NumericDescriptor'>\n",
      "<class 'DRP.models.descriptors.NumericDescriptor'>\n",
      "<class 'DRP.models.descriptors.NumericDescriptor'>\n",
      "<class 'DRP.models.descriptors.NumericDescriptor'>\n",
      "<class 'DRP.models.descriptors.NumericDescriptor'>\n",
      "<class 'DRP.models.descriptors.NumericDescriptor'>\n",
      "<class 'DRP.models.descriptors.NumericDescriptor'>\n",
      "<class 'DRP.models.descriptors.NumericDescriptor'>\n",
      "<class 'DRP.models.descriptors.NumericDescriptor'>\n",
      "<class 'DRP.models.descriptors.NumericDescriptor'>\n",
      "<class 'DRP.models.descriptors.NumericDescriptor'>\n",
      "<class 'DRP.models.descriptors.NumericDescriptor'>\n",
      "<class 'DRP.models.descriptors.NumericDescriptor'>\n",
      "<class 'DRP.models.descriptors.NumericDescriptor'>\n",
      "<class 'DRP.models.descriptors.NumericDescriptor'>\n",
      "<class 'DRP.models.descriptors.NumericDescriptor'>\n",
      "<class 'DRP.models.descriptors.NumericDescriptor'>\n",
      "<class 'DRP.models.descriptors.NumericDescriptor'>\n",
      "<class 'DRP.models.descriptors.NumericDescriptor'>\n",
      "<class 'DRP.models.descriptors.NumericDescriptor'>\n",
      "<class 'DRP.models.descriptors.NumericDescriptor'>\n",
      "<class 'DRP.models.descriptors.NumericDescriptor'>\n",
      "<class 'DRP.models.descriptors.NumericDescriptor'>\n",
      "<class 'DRP.models.descriptors.NumericDescriptor'>\n",
      "<class 'DRP.models.descriptors.NumericDescriptor'>\n",
      "<class 'DRP.models.descriptors.NumericDescriptor'>\n",
      "<class 'DRP.models.descriptors.NumericDescriptor'>\n",
      "<class 'DRP.models.descriptors.NumericDescriptor'>\n",
      "<class 'DRP.models.descriptors.NumericDescriptor'>\n",
      "<class 'DRP.models.descriptors.NumericDescriptor'>\n",
      "<class 'DRP.models.descriptors.NumericDescriptor'>\n",
      "<class 'DRP.models.descriptors.NumericDescriptor'>\n",
      "<class 'DRP.models.descriptors.NumericDescriptor'>\n",
      "<class 'DRP.models.descriptors.NumericDescriptor'>\n",
      "<class 'DRP.models.descriptors.NumericDescriptor'>\n",
      "<class 'DRP.models.descriptors.NumericDescriptor'>\n",
      "<class 'DRP.models.descriptors.NumericDescriptor'>\n",
      "<class 'DRP.models.descriptors.NumericDescriptor'>\n",
      "<class 'DRP.models.descriptors.NumericDescriptor'>\n",
      "<class 'DRP.models.descriptors.NumericDescriptor'>\n",
      "<class 'DRP.models.descriptors.NumericDescriptor'>\n",
      "<class 'DRP.models.descriptors.NumericDescriptor'>\n",
      "<class 'DRP.models.descriptors.NumericDescriptor'>\n",
      "<class 'DRP.models.descriptors.NumericDescriptor'>\n",
      "<class 'DRP.models.descriptors.NumericDescriptor'>\n",
      "<class 'DRP.models.descriptors.NumericDescriptor'>\n",
      "<class 'DRP.models.descriptors.NumericDescriptor'>\n",
      "<class 'DRP.models.descriptors.NumericDescriptor'>\n",
      "<class 'DRP.models.descriptors.NumericDescriptor'>\n",
      "<class 'DRP.models.descriptors.NumericDescriptor'>\n",
      "<class 'DRP.models.descriptors.NumericDescriptor'>\n",
      "<class 'DRP.models.descriptors.NumericDescriptor'>\n",
      "<class 'DRP.models.descriptors.NumericDescriptor'>\n",
      "<class 'DRP.models.descriptors.NumericDescriptor'>\n",
      "<class 'DRP.models.descriptors.NumericDescriptor'>\n",
      "<class 'DRP.models.descriptors.NumericDescriptor'>\n",
      "<class 'DRP.models.descriptors.NumericDescriptor'>\n",
      "<class 'DRP.models.descriptors.NumericDescriptor'>\n",
      "<class 'DRP.models.descriptors.NumericDescriptor'>\n",
      "<class 'DRP.models.descriptors.NumericDescriptor'>\n",
      "<class 'DRP.models.descriptors.NumericDescriptor'>\n",
      "<class 'DRP.models.descriptors.NumericDescriptor'>\n",
      "<class 'DRP.models.descriptors.NumericDescriptor'>\n",
      "<class 'DRP.models.descriptors.NumericDescriptor'>\n",
      "<class 'DRP.models.descriptors.NumericDescriptor'>\n",
      "<class 'DRP.models.descriptors.NumericDescriptor'>\n",
      "<class 'DRP.models.descriptors.NumericDescriptor'>\n",
      "<class 'DRP.models.descriptors.NumericDescriptor'>\n",
      "<class 'DRP.models.descriptors.NumericDescriptor'>\n",
      "<class 'DRP.models.descriptors.NumericDescriptor'>\n",
      "<class 'DRP.models.descriptors.NumericDescriptor'>\n",
      "<class 'DRP.models.descriptors.NumericDescriptor'>\n",
      "<class 'DRP.models.descriptors.NumericDescriptor'>\n",
      "<class 'DRP.models.descriptors.NumericDescriptor'>\n",
      "<class 'DRP.models.descriptors.NumericDescriptor'>\n"
     ]
    }
   ],
   "source": [
    "count = 0\n",
    "for i in react_gen.generate():\n",
    "    count+=1\n",
    "    if count >= 100:\n",
    "        break\n",
    "    else:\n",
    "        example_list.append(i)\n",
    "    "
   ]
  },
  {
   "cell_type": "code",
   "execution_count": 7,
   "metadata": {
    "collapsed": false
   },
   "outputs": [],
   "source": [
    "from DRP.models import OrdRxnDescriptor"
   ]
  },
  {
   "cell_type": "code",
   "execution_count": 8,
   "metadata": {
    "collapsed": false
   },
   "outputs": [
    {
     "name": "stdout",
     "output_type": "stream",
     "text": [
      "1 Four class crystallisation outcome\n",
      "3 Two class crystallisation purity\n"
     ]
    }
   ],
   "source": [
    "for i in OrdRxnDescriptor.objects.all():\n",
    "    print i.pk, i"
   ]
  },
  {
   "cell_type": "code",
   "execution_count": 9,
   "metadata": {
    "collapsed": false
   },
   "outputs": [],
   "source": [
    "from DRP.models import NumRxnDescriptorValue\n",
    "from DRP.models import OrdRxnDescriptorValue"
   ]
  },
  {
   "cell_type": "code",
   "execution_count": 10,
   "metadata": {
    "collapsed": false
   },
   "outputs": [
    {
     "data": {
      "text/plain": [
       "[<NumRxnDescriptorValue: NumRxnDescriptorValue object>, <NumRxnDescriptorValue: NumRxnDescriptorValue object>, <NumRxnDescriptorValue: NumRxnDescriptorValue object>]"
      ]
     },
     "execution_count": 10,
     "metadata": {},
     "output_type": "execute_result"
    }
   ],
   "source": [
    "NumRxnDescriptorValue.objects.filter(reaction = example_list[0])"
   ]
  },
  {
   "cell_type": "code",
   "execution_count": 11,
   "metadata": {
    "collapsed": false
   },
   "outputs": [],
   "source": [
    "initial_len = len(NumRxnDescriptorValue.objects.all())"
   ]
  },
  {
   "cell_type": "code",
   "execution_count": 12,
   "metadata": {
    "collapsed": false
   },
   "outputs": [
    {
     "name": "stdout",
     "output_type": "stream",
     "text": [
      "<class 'DRP.models.descriptors.NumericDescriptor'>\n",
      "<class 'DRP.models.descriptors.NumericDescriptor'>\n",
      "<class 'DRP.models.descriptors.NumericDescriptor'>\n",
      "<class 'DRP.models.descriptors.NumericDescriptor'>\n",
      "<class 'DRP.models.descriptors.NumericDescriptor'>\n",
      "<class 'DRP.models.descriptors.NumericDescriptor'>\n"
     ]
    }
   ],
   "source": [
    "count = 0\n",
    "for i in react_gen.generate():\n",
    "    count+=1\n",
    "    if count >= 2:\n",
    "        break\n",
    "    else:\n",
    "        example_list.append(i)\n",
    "        \n",
    "assert(initial_len < len(NumRxnDescriptorValue.objects.all()))"
   ]
  },
  {
   "cell_type": "code",
   "execution_count": 13,
   "metadata": {
    "collapsed": false
   },
   "outputs": [
    {
     "data": {
      "text/plain": [
       "46513"
      ]
     },
     "execution_count": 13,
     "metadata": {},
     "output_type": "execute_result"
    }
   ],
   "source": [
    "initial_len"
   ]
  },
  {
   "cell_type": "code",
   "execution_count": 14,
   "metadata": {
    "collapsed": false
   },
   "outputs": [
    {
     "data": {
      "text/plain": [
       "46519"
      ]
     },
     "execution_count": 14,
     "metadata": {},
     "output_type": "execute_result"
    }
   ],
   "source": [
    "len(NumRxnDescriptorValue.objects.all())"
   ]
  },
  {
   "cell_type": "code",
   "execution_count": 15,
   "metadata": {
    "collapsed": false
   },
   "outputs": [
    {
     "data": {
      "text/plain": [
       "6"
      ]
     },
     "execution_count": 15,
     "metadata": {},
     "output_type": "execute_result"
    }
   ],
   "source": [
    "len(NumRxnDescriptorValue.objects.all())-initial_len"
   ]
  },
  {
   "cell_type": "code",
   "execution_count": 16,
   "metadata": {
    "collapsed": false,
    "scrolled": true
   },
   "outputs": [
    {
     "data": {
      "text/plain": [
       "[<Reaction: Reaction_161583>,\n",
       " <Reaction: Reaction_161584>,\n",
       " <Reaction: Reaction_161585>,\n",
       " <Reaction: Reaction_161586>,\n",
       " <Reaction: Reaction_161587>,\n",
       " <Reaction: Reaction_161588>,\n",
       " <Reaction: Reaction_161589>]"
      ]
     },
     "execution_count": 16,
     "metadata": {},
     "output_type": "execute_result"
    }
   ],
   "source": [
    "example_list[0:7]"
   ]
  },
  {
   "cell_type": "code",
   "execution_count": 17,
   "metadata": {
    "collapsed": true
   },
   "outputs": [],
   "source": [
    "from DRP.models import OrdRxnDescriptorValue\n",
    "\n",
    "\n",
    "class ReactionSieve(object):\n",
    "\n",
    "    def __init__(self, model_container, desired_desc_dict):\n",
    "      self.model_container = model_container\n",
    "      self.desired_desc_dict = desired_desc_dict\n",
    "    \n",
    "    def filter(self, reactions):\n",
    "        self.model_container.predict(reactions)\n",
    "        for desc, desc_vals in self.desired_desc_dict.items():\n",
    "          reactions = filter(lambda rxn: rxn.descriptor_values.filter(value__in=desc_vals,descriptor=desc).exists(), reactions)\n",
    "        return reactions\n"
   ]
  },
  {
   "cell_type": "code",
   "execution_count": 18,
   "metadata": {
    "collapsed": false
   },
   "outputs": [],
   "source": [
    "from DRP.recommender.AbstractRecommender import AbstractRecommender\n",
    "\n",
    "class Recommender(AbstractRecommender):\n",
    "  def __init__(self, model_container, desc_dict, desired_desc_dict):\n",
    "    \"\"\"\n",
    "    All Descriptor Dicts use (Descriptor, Value List) pairs, where the\n",
    "    Value List is a list of any values this Descriptor should have.\n",
    "    \"\"\"\n",
    "    self.generator = ReactionGenerator(desc_dict)\n",
    "    self.sieve = ReactionSieve(model_container, desired_desc_dict)\n",
    "    \n",
    "  def recommend(self):\n",
    "    rxns = self.generator.generate()\n",
    "    desired_rxns = self.sieve.filter(rxns)\n",
    "    return desired_rxns"
   ]
  },
  {
   "cell_type": "code",
   "execution_count": 19,
   "metadata": {
    "collapsed": true
   },
   "outputs": [],
   "source": [
    "from DRP.models import ModelContainer"
   ]
  },
  {
   "cell_type": "code",
   "execution_count": 20,
   "metadata": {
    "collapsed": false
   },
   "outputs": [
    {
     "ename": "SyntaxError",
     "evalue": "invalid syntax (<ipython-input-20-ad5f595b6914>, line 1)",
     "output_type": "error",
     "traceback": [
      "\u001b[1;36m  File \u001b[1;32m\"<ipython-input-20-ad5f595b6914>\"\u001b[1;36m, line \u001b[1;32m1\u001b[0m\n\u001b[1;33m    from DRP.models import\u001b[0m\n\u001b[1;37m                           ^\u001b[0m\n\u001b[1;31mSyntaxError\u001b[0m\u001b[1;31m:\u001b[0m invalid syntax\n"
     ]
    }
   ],
   "source": [
    "from DRP.models import "
   ]
  },
  {
   "cell_type": "code",
   "execution_count": null,
   "metadata": {
    "collapsed": false
   },
   "outputs": [],
   "source": [
    "a = ReactionSieve(ModelContainer.objects.get(pk=1), ReactionGenerator(), desired_desc_dict)"
   ]
  },
  {
   "cell_type": "code",
   "execution_count": 21,
   "metadata": {
    "collapsed": true
   },
   "outputs": [],
   "source": [
    "from DRP.models import NumRxnDescriptor"
   ]
  },
  {
   "cell_type": "code",
   "execution_count": 22,
   "metadata": {
    "collapsed": false,
    "scrolled": true
   },
   "outputs": [
    {
     "data": {
      "text/plain": [
       "[<NumRxnDescriptor: Reaction temperature in degrees C>, <NumRxnDescriptor: Reaction time in minutes>, <NumRxnDescriptor: Reaction pH>, <NumRxnDescriptor: Pre heat standing time>, <NumRxnDescriptor: Mols of K in a reaction.>, <NumRxnDescriptor: Mols of Yb in a reaction.>, <NumRxnDescriptor: Mols of As in a reaction.>, <NumRxnDescriptor: Mols of Xe in a reaction.>, <NumRxnDescriptor: Mols of Ar in a reaction.>, <NumRxnDescriptor: Mols of Hg in a reaction.>, <NumRxnDescriptor: Mols of Co in a reaction.>, <NumRxnDescriptor: Mols of Pb in a reaction.>, <NumRxnDescriptor: Mols of Si in a reaction.>, <NumRxnDescriptor: Mols of Rb in a reaction.>, <NumRxnDescriptor: Mols of Ba in a reaction.>, <NumRxnDescriptor: Mols of Na in a reaction.>, <NumRxnDescriptor: Mols of Po in a reaction.>, <NumRxnDescriptor: Mols of F in a reaction.>, <NumRxnDescriptor: Mols of Ir in a reaction.>, <NumRxnDescriptor: Mols of Eu in a reaction.>, '...(remaining elements truncated)...']"
      ]
     },
     "execution_count": 22,
     "metadata": {},
     "output_type": "execute_result"
    }
   ],
   "source": [
    "NumRxnDescriptor.objects.all()"
   ]
  },
  {
   "cell_type": "code",
   "execution_count": null,
   "metadata": {
    "collapsed": true
   },
   "outputs": [],
   "source": []
  }
 ],
 "metadata": {
  "kernelspec": {
   "display_name": "Django Shell-Plus",
   "language": "python",
   "name": "django_extensions"
  },
  "language_info": {
   "codemirror_mode": {
    "name": "ipython",
    "version": 2
   },
   "file_extension": ".py",
   "mimetype": "text/x-python",
   "name": "python",
   "nbconvert_exporter": "python",
   "pygments_lexer": "ipython2",
   "version": "2.7.6"
  }
 },
 "nbformat": 4,
 "nbformat_minor": 0
}
