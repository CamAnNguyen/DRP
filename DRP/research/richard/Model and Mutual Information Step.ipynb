{
 "cells": [
  {
   "cell_type": "code",
   "execution_count": 1,
   "metadata": {
    "collapsed": true
   },
   "outputs": [],
   "source": [
    "from DRP.recommender.SampleGridParameters import GridValueGenerator"
   ]
  },
  {
   "cell_type": "code",
   "execution_count": 2,
   "metadata": {
    "collapsed": true
   },
   "outputs": [],
   "source": [
    "from DRP.recommender.ReactionGenerator import ReactionGenerator"
   ]
  },
  {
   "cell_type": "code",
   "execution_count": 3,
   "metadata": {
    "collapsed": false
   },
   "outputs": [],
   "source": [
    "a = GridValueGenerator().main()\n",
    "react_gen = ReactionGenerator(*a)"
   ]
  },
  {
   "cell_type": "code",
   "execution_count": 4,
   "metadata": {
    "collapsed": false
   },
   "outputs": [
    {
     "data": {
      "text/plain": [
       "<DRP.recommender.ReactionGenerator.ReactionGenerator at 0x7f7b62ead650>"
      ]
     },
     "execution_count": 4,
     "metadata": {},
     "output_type": "execute_result"
    }
   ],
   "source": [
    "react_gen"
   ]
  },
  {
   "cell_type": "code",
   "execution_count": 5,
   "metadata": {
    "collapsed": true
   },
   "outputs": [],
   "source": [
    "example_list = []"
   ]
  },
  {
   "cell_type": "code",
   "execution_count": 6,
   "metadata": {
    "collapsed": false
   },
   "outputs": [
    {
     "ename": "TypeError",
     "evalue": "generate() takes exactly 2 arguments (1 given)",
     "output_type": "error",
     "traceback": [
      "\u001b[1;31m---------------------------------------------------------------------------\u001b[0m",
      "\u001b[1;31mTypeError\u001b[0m                                 Traceback (most recent call last)",
      "\u001b[1;32m<ipython-input-6-ab1c55dab931>\u001b[0m in \u001b[0;36m<module>\u001b[1;34m()\u001b[0m\n\u001b[0;32m      1\u001b[0m \u001b[0mcount\u001b[0m \u001b[1;33m=\u001b[0m \u001b[1;36m0\u001b[0m\u001b[1;33m\u001b[0m\u001b[0m\n\u001b[1;32m----> 2\u001b[1;33m \u001b[1;32mfor\u001b[0m \u001b[0mi\u001b[0m \u001b[1;32min\u001b[0m \u001b[0mreact_gen\u001b[0m\u001b[1;33m.\u001b[0m\u001b[0mgenerate\u001b[0m\u001b[1;33m(\u001b[0m\u001b[1;33m)\u001b[0m\u001b[1;33m:\u001b[0m\u001b[1;33m\u001b[0m\u001b[0m\n\u001b[0m\u001b[0;32m      3\u001b[0m     \u001b[0mcount\u001b[0m\u001b[1;33m+=\u001b[0m\u001b[1;36m1\u001b[0m\u001b[1;33m\u001b[0m\u001b[0m\n\u001b[0;32m      4\u001b[0m     \u001b[1;32mif\u001b[0m \u001b[0mcount\u001b[0m \u001b[1;33m>=\u001b[0m \u001b[1;36m100\u001b[0m\u001b[1;33m:\u001b[0m\u001b[1;33m\u001b[0m\u001b[0m\n\u001b[0;32m      5\u001b[0m         \u001b[1;32mbreak\u001b[0m\u001b[1;33m\u001b[0m\u001b[0m\n",
      "\u001b[1;31mTypeError\u001b[0m: generate() takes exactly 2 arguments (1 given)"
     ]
    }
   ],
   "source": [
    "count = 0\n",
    "for i in react_gen.generate():\n",
    "    count+=1\n",
    "    if count >= 100:\n",
    "        break\n",
    "    else:\n",
    "        example_list.append(i)"
   ]
  },
  {
   "cell_type": "code",
   "execution_count": null,
   "metadata": {
    "collapsed": false
   },
   "outputs": [],
   "source": [
    "from DRP.models import OrdRxnDescriptor"
   ]
  },
  {
   "cell_type": "code",
   "execution_count": null,
   "metadata": {
    "collapsed": false
   },
   "outputs": [],
   "source": [
    "for i in OrdRxnDescriptor.objects.all():\n",
    "    print i.pk, i"
   ]
  },
  {
   "cell_type": "code",
   "execution_count": null,
   "metadata": {
    "collapsed": false
   },
   "outputs": [],
   "source": [
    "from DRP.models import NumRxnDescriptorValue\n",
    "from DRP.models import OrdRxnDescriptorValue"
   ]
  },
  {
   "cell_type": "code",
   "execution_count": null,
   "metadata": {
    "collapsed": false
   },
   "outputs": [],
   "source": [
    "NumRxnDescriptorValue.objects.filter(reaction = example_list[0])"
   ]
  },
  {
   "cell_type": "code",
   "execution_count": null,
   "metadata": {
    "collapsed": false
   },
   "outputs": [],
   "source": [
    "initial_len = len(NumRxnDescriptorValue.objects.all())"
   ]
  },
  {
   "cell_type": "code",
   "execution_count": null,
   "metadata": {
    "collapsed": false,
    "scrolled": true
   },
   "outputs": [],
   "source": [
    "count = 0\n",
    "for i in react_gen.generate():\n",
    "    count+=1\n",
    "    if count >= 2:\n",
    "        break\n",
    "    else:\n",
    "        example_list.append(i)\n",
    "        \n",
    "assert(initial_len < len(NumRxnDescriptorValue.objects.all()))"
   ]
  },
  {
   "cell_type": "code",
   "execution_count": null,
   "metadata": {
    "collapsed": false
   },
   "outputs": [],
   "source": [
    "initial_len"
   ]
  },
  {
   "cell_type": "code",
   "execution_count": null,
   "metadata": {
    "collapsed": false
   },
   "outputs": [],
   "source": [
    "len(NumRxnDescriptorValue.objects.all())"
   ]
  },
  {
   "cell_type": "code",
   "execution_count": null,
   "metadata": {
    "collapsed": false
   },
   "outputs": [],
   "source": [
    "len(NumRxnDescriptorValue.objects.all())-initial_len"
   ]
  },
  {
   "cell_type": "code",
   "execution_count": null,
   "metadata": {
    "collapsed": false,
    "scrolled": true
   },
   "outputs": [],
   "source": [
    "example_list[-1]"
   ]
  },
  {
   "cell_type": "code",
   "execution_count": null,
   "metadata": {
    "collapsed": false
   },
   "outputs": [],
   "source": [
    "example_list[:7]"
   ]
  },
  {
   "cell_type": "code",
   "execution_count": null,
   "metadata": {
    "collapsed": true
   },
   "outputs": [],
   "source": [
    "ex_id_list = [rxn.id for rxn in example_list]"
   ]
  },
  {
   "cell_type": "code",
   "execution_count": null,
   "metadata": {
    "collapsed": false,
    "scrolled": true
   },
   "outputs": [],
   "source": [
    "from DRP.models import OrdRxnDescriptorValue, BoolRxnDescriptorValue\n",
    "for i in BoolRxnDescriptorValue.objects.all():\n",
    "    print i.pk, i.descriptor, i.descriptor.pk, i, i.reaction\n",
    "    if i.pk > 90111:\n",
    "        break"
   ]
  },
  {
   "cell_type": "code",
   "execution_count": null,
   "metadata": {
    "collapsed": false
   },
   "outputs": [],
   "source": [
    "BoolRxnDescriptorValue.objects.get(descriptor__pk=2, reaction__pk=27045)"
   ]
  },
  {
   "cell_type": "code",
   "execution_count": null,
   "metadata": {
    "collapsed": false
   },
   "outputs": [],
   "source": [
    "from DRP.models import OrdRxnDescriptorValue, BoolRxnDescriptorValue\n",
    "\n",
    "class ReactionSieve(object):\n",
    "\n",
    "    def __init__(self, model_container, reactions, desired_desc_dict):\n",
    "      self.model_container = model_container\n",
    "      self.desired_desc_dict = desired_desc_dict\n",
    "    \n",
    "    def filter(self, reactions):\n",
    "        print 'TYPE', type(reactions)\n",
    "        print '''ENTERING FILTER'''\n",
    "        a = self.model_container.predict(reactions)#, verbose=True)\n",
    "        print '''PREDICTIONS DONE'''\n",
    "        plausible_reactions = []\n",
    "        print '''DESIRED DESCRIPTORS:''', self.desired_desc_dict\n",
    "        for desc, desc_vals in self.desired_desc_dict.items():\n",
    "            for i in desc_vals:\n",
    "                 for a in a[i]:\n",
    "                     plausible_reactions.append(a[0])\n",
    "#         print '''PLAUSIBLE REACTIONS:''', plausible_reactions\n",
    "        plausible_reactions_ids = [pr.id for pr in plausible_reactions]\n",
    "        reactions = reactions.filter(pk__range =(min(plausible_reactions_ids), max(plausible_reactions_ids)))\n",
    "        print '''EXITING FILTER'''\n",
    "        return reactions\n",
    "\n",
    "        \n",
    "        \"\"\"\n",
    "        # I think this was based on a misunderstanding\n",
    "        for desc, desc_vals in self.desired_desc_dict.items():\n",
    "#             print 'desc', desc, type(desc), desc_vals, type(desc_vals)\n",
    "            plausible_ids = []\n",
    "            #TODO MAKE WORK FOR NON-ORDINAL STUFF\n",
    "            #reactions = [reaction for reaction in reactions if BoolRxnDescriptorValue.objects.get(descriptor__pk=2, reaction__range(min(ex_id_list), max(ex_id_list)))]\n",
    "            for i in desc_vals:\n",
    "                plausible_ids += [descriptor.reaction.id for descriptor in BoolRxnDescriptorValue.objects.filter(descriptor__pk=2) if descriptor.value==i]\n",
    "            reactions = [reaction for reaction in reactions if reaction.id in plausible_ids]\n",
    "            print 'plausible', plausible_ids\n",
    "            print 'reactions', reactions\n",
    "    \n",
    "            #         return reactions\n",
    "        \"\"\""
   ]
  },
  {
   "cell_type": "code",
   "execution_count": null,
   "metadata": {
    "collapsed": true
   },
   "outputs": [],
   "source": [
    "from DRP.models import ModelContainer"
   ]
  },
  {
   "cell_type": "code",
   "execution_count": null,
   "metadata": {
    "collapsed": false
   },
   "outputs": [],
   "source": [
    "from DRP.models import OrdRxnDescriptor\n",
    "OrdRxnDescriptor.objects.get(pk=3)"
   ]
  },
  {
   "cell_type": "code",
   "execution_count": null,
   "metadata": {
    "collapsed": false
   },
   "outputs": [],
   "source": [
    "from DRP.recommender.SampleGridParameters import GridValueGenerator"
   ]
  },
  {
   "cell_type": "code",
   "execution_count": null,
   "metadata": {
    "collapsed": false
   },
   "outputs": [],
   "source": [
    "a = ReactionSieve(ModelContainer.objects.get(pk=1), Reaction.objects.filter(pk__range=(211890, 211990)), {BoolRxnDescriptor.objects.get(pk=2):[True]})"
   ]
  },
  {
   "cell_type": "code",
   "execution_count": null,
   "metadata": {
    "collapsed": false,
    "scrolled": true
   },
   "outputs": [],
   "source": [
    "a.filter(Reaction.objects.filter(pk__range=(211890, 211990)))"
   ]
  },
  {
   "cell_type": "code",
   "execution_count": null,
   "metadata": {
    "collapsed": false
   },
   "outputs": [],
   "source": [
    "print type(Reaction.objects.filter(pk__range=(211890, 211990)))"
   ]
  },
  {
   "cell_type": "code",
   "execution_count": null,
   "metadata": {
    "collapsed": false
   },
   "outputs": [],
   "source": [
    "reactions = [Reaction.objects.filter(pk__range = (min(ex_id_list),max(ex_id_list)))]"
   ]
  },
  {
   "cell_type": "code",
   "execution_count": null,
   "metadata": {
    "collapsed": false
   },
   "outputs": [],
   "source": [
    "import numpy as np\n",
    "import pandas as pd\n",
    "\n",
    "from DRP.recommender.AbstractRecommender import AbstractRecommender\n",
    "from DRP.models import PerformedReaction\n",
    "from DRP.models import CompoundQuantity\n",
    "\n",
    "\n",
    "class Recommender(AbstractRecommender):\n",
    "    def __init__(self, model_container, grid_params, desired_desc_dict):\n",
    "        \"\"\"\n",
    "        All Descriptor Dicts use (Descriptor, Value List) pairs, where the\n",
    "        Value List is a list of any values this Descriptor should have.\n",
    "        \"\"\"\n",
    "        \n",
    "        self.generator = ReactionGenerator(*grid_params)\n",
    "        self.plausible_reactions = self.generator.generate()\n",
    "        reaction_ids = []\n",
    "        \n",
    "        for i in range(10000):\n",
    "            reaction_ids.append(self.plausible_reactions.next().pk)\n",
    "            \n",
    "        react_min = min(reaction_ids)\n",
    "        react_max = max(reaction_ids)\n",
    "        react_range = (react_min, react_max)\n",
    "        self.sieve = ReactionSieve(model_container, Reaction.objects.filter(pk__range=react_range), desired_desc_dict)\n",
    "        self.plausible_reactions =  Reaction.objects.filter(pk__range=react_range)\n",
    "\n",
    "        self.plausible_reactions = self.sieve.filter(Reaction.objects.filter(pk__range=react_range))\n",
    "        self.committed = []\n",
    "        \n",
    "        # TODO remove\n",
    "        self.desc_dict = grid_params[0]\n",
    "        self.compound_dict = grid_params[1]\n",
    "\n",
    "    def array_of_proposed_rxns(self):\n",
    "\n",
    "        self.existing_reactions = PerformedReaction.objects.all()\n",
    "        reac_descs = {}\n",
    "        df = pd.DataFrame(columns=self.compound_dict.keys() + self.desc_dict.keys())\n",
    "        \n",
    "        \n",
    "        # TODO figrue out how to deal with compound ammounts\n",
    "        for i in self.compound_dict:\n",
    "            compounds = []\n",
    "            for reaction in self.plausible_reactions:\n",
    "                compound_options = CompoundQuantity.objects.filter(reaction=reaction)\n",
    "                compounds += [compound.compound.name for compound in compound_options if Compound.objects.get(pk=compound.compound.pk) in self.compound_dict[i]]                \n",
    "            df[i] = pd.Series(compounds)\n",
    "        \n",
    "#         for i in self.desc_dict:\n",
    "#             desc_vals = []\n",
    "#             for reaction in self.plausible_reactions:\n",
    "#                 # TODO Expand beyond numeric descriptors\n",
    "#                 desc_vals.append(NumRxnDescriptorValue.objects.get(reaction=reaction,descriptor=i).value)\n",
    "#             vals_to_head = np.array(desc_vals)\n",
    "#             df[i] = pd.Series(vals_to_head)\n",
    "                        \n",
    "        return df.as_matrix()\n",
    "        \n",
    "    def build_matrix(self):\n",
    "        pass\n",
    "        \n",
    "        \n",
    "    def mutual_info(self):\n",
    "        pass\n",
    "\n",
    "    def recommend(self):\n",
    "        rxns = self.generator.generate()\n",
    "        desired_rxns = self.sieve.filter(rxns)\n",
    "        return desired_rxns\n",
    "    \n",
    "    \n",
    "    "
   ]
  },
  {
   "cell_type": "code",
   "execution_count": null,
   "metadata": {
    "collapsed": false,
    "scrolled": false
   },
   "outputs": [],
   "source": [
    "a = Recommender(ModelContainer.objects.get(pk=1),  GridValueGenerator().main(), {BoolRxnDescriptor.objects.get(pk=2):[True]})"
   ]
  },
  {
   "cell_type": "code",
   "execution_count": null,
   "metadata": {
    "collapsed": false,
    "scrolled": false
   },
   "outputs": [],
   "source": [
    "matrix = a.array_of_proposed_rxns()"
   ]
  },
  {
   "cell_type": "code",
   "execution_count": null,
   "metadata": {
    "collapsed": false,
    "scrolled": true
   },
   "outputs": [],
   "source": [
    "for i in matrix[0:500:20]:\n",
    "    print i"
   ]
  },
  {
   "cell_type": "code",
   "execution_count": null,
   "metadata": {
    "collapsed": true
   },
   "outputs": [],
   "source": [
    "def calc_MI(x, y, bins=5):\n",
    "    c_xy = np.histogram2d(x, y, bins)[0]\n",
    "    g, p, dof, expected = chi2_contingency(c_xy, lambda_=\"log-likelihood\")\n",
    "    mi = 0.5 * g / c_xy.sum()\n",
    "    return mi"
   ]
  },
  {
   "cell_type": "code",
   "execution_count": null,
   "metadata": {
    "collapsed": false
   },
   "outputs": [],
   "source": [
    "def find_least_MI(recommender, outcome_descriptor):\n",
    "    mutual_info_tuples = []\n",
    "    base_matrix = recommender.create_matrix()\n",
    "    for reaction in recommender.plausible_reactions:\n",
    "        the_array = []\n",
    "        for compounds in recommender.compound_dict:\n",
    "            compound_options = CompoundQuantity.objects.filter(reaction=reaction)\n",
    "            the_array += [compound.compound.name for compound in compound_options if Compound.objects.get(pk=compound.compound.pk) in recommender.compound_dict[compounds]]\n",
    "\n",
    "            desc_vals = []\n",
    "        for descriptor in recommender.desc_dict:\n",
    "            desc_vals.append(NumRxnDescriptorValue.objects.get(reaction=reaction,descriptor=descriptor).value)\n",
    "        \n",
    "        OrdRxnDescriptor.objects.get(pk=3)\n",
    "        \n",
    "        the_array += desc_vals\n",
    "        matrix2 = np.vstack([base_matrix,np.array(the_array)])\n",
    "#         matrix2 = the_array\n",
    "        mutual_info_tuples.append(calc_MI(base_matrix,matrix2))\n",
    "        return mutual_info_tuples\n",
    "            "
   ]
  },
  {
   "cell_type": "code",
   "execution_count": null,
   "metadata": {
    "collapsed": false
   },
   "outputs": [],
   "source": [
    "z = find_least_MI(a)"
   ]
  },
  {
   "cell_type": "code",
   "execution_count": null,
   "metadata": {
    "collapsed": true
   },
   "outputs": [],
   "source": [
    "print z"
   ]
  },
  {
   "cell_type": "code",
   "execution_count": null,
   "metadata": {
    "collapsed": false
   },
   "outputs": [],
   "source": [
    "from DRP.models import OrdRxnDescriptor"
   ]
  },
  {
   "cell_type": "code",
   "execution_count": null,
   "metadata": {
    "collapsed": false
   },
   "outputs": [],
   "source": [
    "for i in OrdRxnDescriptor.objects.all():\n",
    "    print i.pk, i"
   ]
  },
  {
   "cell_type": "code",
   "execution_count": null,
   "metadata": {
    "collapsed": true
   },
   "outputs": [],
   "source": [
    "OrdRxnDescriptor.objects.get(pk=3)"
   ]
  },
  {
   "cell_type": "code",
   "execution_count": null,
   "metadata": {
    "collapsed": true
   },
   "outputs": [],
   "source": []
  }
 ],
 "metadata": {
  "kernelspec": {
   "display_name": "Django Shell-Plus",
   "language": "python",
   "name": "django_extensions"
  },
  "language_info": {
   "codemirror_mode": {
    "name": "ipython",
    "version": 2
   },
   "file_extension": ".py",
   "mimetype": "text/x-python",
   "name": "python",
   "nbconvert_exporter": "python",
   "pygments_lexer": "ipython2",
   "version": "2.7.6"
  }
 },
 "nbformat": 4,
 "nbformat_minor": 0
}
