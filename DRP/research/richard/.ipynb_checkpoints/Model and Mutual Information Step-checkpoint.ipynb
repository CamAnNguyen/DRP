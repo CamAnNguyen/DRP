{
 "cells": [
  {
   "cell_type": "code",
   "execution_count": 1,
   "metadata": {
    "collapsed": true
   },
   "outputs": [],
   "source": [
    "from DRP.recommender.SampleGridParameters import GridValueGenerator"
   ]
  },
  {
   "cell_type": "code",
   "execution_count": 2,
   "metadata": {
    "collapsed": true
   },
   "outputs": [],
   "source": [
    "from DRP.recommender.ReactionGenerator import ReactionGenerator"
   ]
  },
  {
   "cell_type": "code",
   "execution_count": 3,
   "metadata": {
    "collapsed": false
   },
   "outputs": [],
   "source": [
    "a = GridValueGenerator().main()\n",
    "react_gen = ReactionGenerator(*a)"
   ]
  },
  {
   "cell_type": "code",
   "execution_count": 4,
   "metadata": {
    "collapsed": false
   },
   "outputs": [
    {
     "data": {
      "text/plain": [
       "<DRP.recommender.ReactionGenerator.ReactionGenerator at 0x7fa9aee7a090>"
      ]
     },
     "execution_count": 4,
     "metadata": {},
     "output_type": "execute_result"
    }
   ],
   "source": [
    "react_gen"
   ]
  },
  {
   "cell_type": "code",
   "execution_count": 5,
   "metadata": {
    "collapsed": true
   },
   "outputs": [],
   "source": [
    "example_list = []"
   ]
  },
  {
   "cell_type": "code",
   "execution_count": 6,
   "metadata": {
    "collapsed": false
   },
   "outputs": [],
   "source": [
    "count = 0\n",
    "for i in react_gen.generate():\n",
    "    count+=1\n",
    "    if count >= 100:\n",
    "        break\n",
    "    else:\n",
    "        example_list.append(i)"
   ]
  },
  {
   "cell_type": "code",
   "execution_count": 7,
   "metadata": {
    "collapsed": false
   },
   "outputs": [],
   "source": [
    "from DRP.models import OrdRxnDescriptor"
   ]
  },
  {
   "cell_type": "code",
   "execution_count": 8,
   "metadata": {
    "collapsed": false
   },
   "outputs": [
    {
     "name": "stdout",
     "output_type": "stream",
     "text": [
      "1 Four class crystallisation outcome\n",
      "3 Two class crystallisation purity\n"
     ]
    }
   ],
   "source": [
    "for i in OrdRxnDescriptor.objects.all():\n",
    "    print i.pk, i"
   ]
  },
  {
   "cell_type": "code",
   "execution_count": 9,
   "metadata": {
    "collapsed": false
   },
   "outputs": [],
   "source": [
    "from DRP.models import NumRxnDescriptorValue\n",
    "from DRP.models import OrdRxnDescriptorValue"
   ]
  },
  {
   "cell_type": "code",
   "execution_count": 10,
   "metadata": {
    "collapsed": false
   },
   "outputs": [
    {
     "data": {
      "text/plain": [
       "[<NumRxnDescriptorValue: Num descriptor value -Reaction temperature in degrees C:363.15>, <NumRxnDescriptorValue: Num descriptor value -Reaction time in minutes:1440.0>, <NumRxnDescriptorValue: Num descriptor value -Reaction pH:1.0>]"
      ]
     },
     "execution_count": 10,
     "metadata": {},
     "output_type": "execute_result"
    }
   ],
   "source": [
    "NumRxnDescriptorValue.objects.filter(reaction = example_list[0])"
   ]
  },
  {
   "cell_type": "code",
   "execution_count": 11,
   "metadata": {
    "collapsed": false
   },
   "outputs": [],
   "source": [
    "initial_len = len(NumRxnDescriptorValue.objects.all())"
   ]
  },
  {
   "cell_type": "code",
   "execution_count": 12,
   "metadata": {
    "collapsed": false,
    "scrolled": true
   },
   "outputs": [],
   "source": [
    "count = 0\n",
    "for i in react_gen.generate():\n",
    "    count+=1\n",
    "    if count >= 2:\n",
    "        break\n",
    "    else:\n",
    "        example_list.append(i)\n",
    "        \n",
    "assert(initial_len < len(NumRxnDescriptorValue.objects.all()))"
   ]
  },
  {
   "cell_type": "code",
   "execution_count": 13,
   "metadata": {
    "collapsed": false
   },
   "outputs": [
    {
     "data": {
      "text/plain": [
       "45901"
      ]
     },
     "execution_count": 13,
     "metadata": {},
     "output_type": "execute_result"
    }
   ],
   "source": [
    "initial_len"
   ]
  },
  {
   "cell_type": "code",
   "execution_count": 14,
   "metadata": {
    "collapsed": false
   },
   "outputs": [
    {
     "data": {
      "text/plain": [
       "45907"
      ]
     },
     "execution_count": 14,
     "metadata": {},
     "output_type": "execute_result"
    }
   ],
   "source": [
    "len(NumRxnDescriptorValue.objects.all())"
   ]
  },
  {
   "cell_type": "code",
   "execution_count": 15,
   "metadata": {
    "collapsed": false
   },
   "outputs": [
    {
     "data": {
      "text/plain": [
       "6"
      ]
     },
     "execution_count": 15,
     "metadata": {},
     "output_type": "execute_result"
    }
   ],
   "source": [
    "len(NumRxnDescriptorValue.objects.all())-initial_len"
   ]
  },
  {
   "cell_type": "code",
   "execution_count": 16,
   "metadata": {
    "collapsed": false,
    "scrolled": true
   },
   "outputs": [
    {
     "data": {
      "text/plain": [
       "<Reaction: Reaction_36135>"
      ]
     },
     "execution_count": 16,
     "metadata": {},
     "output_type": "execute_result"
    }
   ],
   "source": [
    "example_list[-1]"
   ]
  },
  {
   "cell_type": "code",
   "execution_count": 17,
   "metadata": {
    "collapsed": false
   },
   "outputs": [
    {
     "data": {
      "text/plain": [
       "[<Reaction: Reaction_36035>,\n",
       " <Reaction: Reaction_36036>,\n",
       " <Reaction: Reaction_36037>,\n",
       " <Reaction: Reaction_36038>,\n",
       " <Reaction: Reaction_36039>,\n",
       " <Reaction: Reaction_36040>,\n",
       " <Reaction: Reaction_36041>]"
      ]
     },
     "execution_count": 17,
     "metadata": {},
     "output_type": "execute_result"
    }
   ],
   "source": [
    "example_list[:7]"
   ]
  },
  {
   "cell_type": "code",
   "execution_count": 18,
   "metadata": {
    "collapsed": true
   },
   "outputs": [],
   "source": [
    "ex_id_list = [rxn.id for rxn in example_list]"
   ]
  },
  {
   "cell_type": "code",
   "execution_count": 19,
   "metadata": {
    "collapsed": false,
    "scrolled": true
   },
   "outputs": [
    {
     "name": "stdout",
     "output_type": "stream",
     "text": [
      "17905 Was this reaction performed in a teflon pouch? 8 BoolRxnDescriptorValue object Reaction_8956\n",
      "17906 Was this reaction performed in a teflon pouch? 8 BoolRxnDescriptorValue object Reaction_8959\n",
      "17907 Was this reaction performed in a teflon pouch? 8 BoolRxnDescriptorValue object Reaction_8960\n",
      "17908 Was this reaction performed in a teflon pouch? 8 BoolRxnDescriptorValue object Reaction_8961\n",
      "17909 Was this reaction performed in a teflon pouch? 8 BoolRxnDescriptorValue object Reaction_8962\n",
      "17910 Was this reaction performed in a teflon pouch? 8 BoolRxnDescriptorValue object Reaction_8963\n",
      "17911 Was this reaction performed in a teflon pouch? 8 BoolRxnDescriptorValue object Reaction_8964\n",
      "17912 Was this reaction performed in a teflon pouch? 8 BoolRxnDescriptorValue object Reaction_8965\n",
      "17913 Was this reaction performed in a teflon pouch? 8 BoolRxnDescriptorValue object Reaction_8966\n",
      "17914 Was this reaction performed in a teflon pouch? 8 BoolRxnDescriptorValue object Reaction_8967\n",
      "17915 Was this reaction performed in a teflon pouch? 8 BoolRxnDescriptorValue object Reaction_8968\n",
      "17916 Was this reaction performed in a teflon pouch? 8 BoolRxnDescriptorValue object Reaction_8969\n",
      "90077 Two class crystallisation outcome 2 BoolRxnDescriptorValue object Reaction_27010\n",
      "90078 Two class crystallisation outcome 2 BoolRxnDescriptorValue object Reaction_27011\n",
      "90079 Two class crystallisation outcome 2 BoolRxnDescriptorValue object Reaction_27012\n",
      "90080 Two class crystallisation outcome 2 BoolRxnDescriptorValue object Reaction_27013\n",
      "90081 Two class crystallisation outcome 2 BoolRxnDescriptorValue object Reaction_27014\n",
      "90082 Two class crystallisation outcome 2 BoolRxnDescriptorValue object Reaction_27015\n",
      "90083 Two class crystallisation outcome 2 BoolRxnDescriptorValue object Reaction_27016\n",
      "90084 Two class crystallisation outcome 2 BoolRxnDescriptorValue object Reaction_27017\n",
      "90085 Two class crystallisation outcome 2 BoolRxnDescriptorValue object Reaction_27018\n",
      "90086 Two class crystallisation outcome 2 BoolRxnDescriptorValue object Reaction_27019\n",
      "90087 Two class crystallisation outcome 2 BoolRxnDescriptorValue object Reaction_27020\n",
      "90088 Two class crystallisation outcome 2 BoolRxnDescriptorValue object Reaction_27021\n",
      "90089 Two class crystallisation outcome 2 BoolRxnDescriptorValue object Reaction_27022\n",
      "90090 Two class crystallisation outcome 2 BoolRxnDescriptorValue object Reaction_27023\n",
      "90091 Two class crystallisation outcome 2 BoolRxnDescriptorValue object Reaction_27024\n",
      "90092 Two class crystallisation outcome 2 BoolRxnDescriptorValue object Reaction_27025\n",
      "90093 Two class crystallisation outcome 2 BoolRxnDescriptorValue object Reaction_27026\n",
      "90094 Two class crystallisation outcome 2 BoolRxnDescriptorValue object Reaction_27027\n",
      "90095 Two class crystallisation outcome 2 BoolRxnDescriptorValue object Reaction_27028\n",
      "90096 Two class crystallisation outcome 2 BoolRxnDescriptorValue object Reaction_27029\n",
      "90097 Two class crystallisation outcome 2 BoolRxnDescriptorValue object Reaction_27030\n",
      "90098 Two class crystallisation outcome 2 BoolRxnDescriptorValue object Reaction_27031\n",
      "90099 Two class crystallisation outcome 2 BoolRxnDescriptorValue object Reaction_27032\n",
      "90100 Two class crystallisation outcome 2 BoolRxnDescriptorValue object Reaction_27033\n",
      "90101 Two class crystallisation outcome 2 BoolRxnDescriptorValue object Reaction_27034\n",
      "90102 Two class crystallisation outcome 2 BoolRxnDescriptorValue object Reaction_27035\n",
      "90103 Two class crystallisation outcome 2 BoolRxnDescriptorValue object Reaction_27036\n",
      "90104 Two class crystallisation outcome 2 BoolRxnDescriptorValue object Reaction_27037\n",
      "90105 Two class crystallisation outcome 2 BoolRxnDescriptorValue object Reaction_27038\n",
      "90106 Two class crystallisation outcome 2 BoolRxnDescriptorValue object Reaction_27039\n",
      "90107 Two class crystallisation outcome 2 BoolRxnDescriptorValue object Reaction_27040\n",
      "90108 Two class crystallisation outcome 2 BoolRxnDescriptorValue object Reaction_27041\n",
      "90109 Two class crystallisation outcome 2 BoolRxnDescriptorValue object Reaction_27042\n",
      "90110 Two class crystallisation outcome 2 BoolRxnDescriptorValue object Reaction_27043\n",
      "90111 Two class crystallisation outcome 2 BoolRxnDescriptorValue object Reaction_27044\n",
      "90112 Two class crystallisation outcome 2 BoolRxnDescriptorValue object Reaction_27045\n"
     ]
    }
   ],
   "source": [
    "from DRP.models import OrdRxnDescriptorValue, BoolRxnDescriptorValue\n",
    "for i in BoolRxnDescriptorValue.objects.all():\n",
    "    print i.pk, i.descriptor, i.descriptor.pk, i, i.reaction\n",
    "    if i.pk > 90111:\n",
    "        break"
   ]
  },
  {
   "cell_type": "code",
   "execution_count": 20,
   "metadata": {
    "collapsed": false
   },
   "outputs": [
    {
     "data": {
      "text/plain": [
       "<BoolRxnDescriptorValue: BoolRxnDescriptorValue object>"
      ]
     },
     "execution_count": 20,
     "metadata": {},
     "output_type": "execute_result"
    }
   ],
   "source": [
    "BoolRxnDescriptorValue.objects.get(descriptor__pk=2, reaction__pk=27045)"
   ]
  },
  {
   "cell_type": "code",
   "execution_count": 21,
   "metadata": {
    "collapsed": false
   },
   "outputs": [],
   "source": [
    "from DRP.models import OrdRxnDescriptorValue, BoolRxnDescriptorValue\n",
    "\n",
    "class ReactionSieve(object):\n",
    "\n",
    "    def __init__(self, model_container, reactions, desired_desc_dict):\n",
    "      self.model_container = model_container\n",
    "      self.desired_desc_dict = desired_desc_dict\n",
    "    \n",
    "    def filter(self, reactions):\n",
    "        print 'TYPE', type(reactions)\n",
    "        print '''ENTERING FILTER'''\n",
    "        a = self.model_container.predict(reactions)#, verbose=True)\n",
    "        print '''PREDICTIONS DONE'''\n",
    "        plausible_reactions = []\n",
    "        print '''DESIRED DESCRIPTORS:''', self.desired_desc_dict\n",
    "        for desc, desc_vals in self.desired_desc_dict.items():\n",
    "            for i in desc_vals:\n",
    "                 for a in a[i]:\n",
    "                     plausible_reactions.append(a[0])\n",
    "#         print '''PLAUSIBLE REACTIONS:''', plausible_reactions\n",
    "        plausible_reactions_ids = [pr.id for pr in plausible_reactions]\n",
    "        reactions = reactions.filter(pk__range =(min(plausible_reactions_ids), max(plausible_reactions_ids)))\n",
    "        print '''EXITING FILTER'''\n",
    "        return reactions\n",
    "\n",
    "        \n",
    "        \"\"\"\n",
    "        # I think this was based on a misunderstanding\n",
    "        for desc, desc_vals in self.desired_desc_dict.items():\n",
    "#             print 'desc', desc, type(desc), desc_vals, type(desc_vals)\n",
    "            plausible_ids = []\n",
    "            #TODO MAKE WORK FOR NON-ORDINAL STUFF\n",
    "            #reactions = [reaction for reaction in reactions if BoolRxnDescriptorValue.objects.get(descriptor__pk=2, reaction__range(min(ex_id_list), max(ex_id_list)))]\n",
    "            for i in desc_vals:\n",
    "                plausible_ids += [descriptor.reaction.id for descriptor in BoolRxnDescriptorValue.objects.filter(descriptor__pk=2) if descriptor.value==i]\n",
    "            reactions = [reaction for reaction in reactions if reaction.id in plausible_ids]\n",
    "            print 'plausible', plausible_ids\n",
    "            print 'reactions', reactions\n",
    "    \n",
    "            #         return reactions\n",
    "        \"\"\""
   ]
  },
  {
   "cell_type": "code",
   "execution_count": 22,
   "metadata": {
    "collapsed": true
   },
   "outputs": [],
   "source": [
    "from DRP.models import ModelContainer"
   ]
  },
  {
   "cell_type": "code",
   "execution_count": 23,
   "metadata": {
    "collapsed": false
   },
   "outputs": [
    {
     "data": {
      "text/plain": [
       "<OrdRxnDescriptor: Two class crystallisation purity>"
      ]
     },
     "execution_count": 23,
     "metadata": {},
     "output_type": "execute_result"
    }
   ],
   "source": [
    "from DRP.models import OrdRxnDescriptor\n",
    "OrdRxnDescriptor.objects.get(pk=3)"
   ]
  },
  {
   "cell_type": "code",
   "execution_count": 24,
   "metadata": {
    "collapsed": false
   },
   "outputs": [],
   "source": [
    "from DRP.recommender.SampleGridParameters import GridValueGenerator"
   ]
  },
  {
   "cell_type": "code",
   "execution_count": 25,
   "metadata": {
    "collapsed": false
   },
   "outputs": [],
   "source": [
    "a = ReactionSieve(ModelContainer.objects.get(pk=1), Reaction.objects.filter(pk__range=(211890, 211990)), {BoolRxnDescriptor.objects.get(pk=2):[True]})"
   ]
  },
  {
   "cell_type": "code",
   "execution_count": 26,
   "metadata": {
    "collapsed": false,
    "scrolled": true
   },
   "outputs": [
    {
     "name": "stdout",
     "output_type": "stream",
     "text": [
      "ENTERING FILTER\n"
     ]
    },
    {
     "ename": "IndexError",
     "evalue": "list index out of range",
     "output_type": "error",
     "traceback": [
      "\u001b[1;31m---------------------------------------------------------------------------\u001b[0m",
      "\u001b[1;31mIndexError\u001b[0m                                Traceback (most recent call last)",
      "\u001b[1;32m<ipython-input-26-4ec036c67ba1>\u001b[0m in \u001b[0;36m<module>\u001b[1;34m()\u001b[0m\n\u001b[1;32m----> 1\u001b[1;33m \u001b[0ma\u001b[0m\u001b[1;33m.\u001b[0m\u001b[0mfilter\u001b[0m\u001b[1;33m(\u001b[0m\u001b[0mReaction\u001b[0m\u001b[1;33m.\u001b[0m\u001b[0mobjects\u001b[0m\u001b[1;33m.\u001b[0m\u001b[0mfilter\u001b[0m\u001b[1;33m(\u001b[0m\u001b[0mpk__range\u001b[0m\u001b[1;33m=\u001b[0m\u001b[1;33m(\u001b[0m\u001b[1;36m211890\u001b[0m\u001b[1;33m,\u001b[0m \u001b[1;36m211990\u001b[0m\u001b[1;33m)\u001b[0m\u001b[1;33m)\u001b[0m\u001b[1;33m)\u001b[0m\u001b[1;33m\u001b[0m\u001b[0m\n\u001b[0m",
      "\u001b[1;32m<ipython-input-21-9abfae2ff1f4>\u001b[0m in \u001b[0;36mfilter\u001b[1;34m(self, reactions)\u001b[0m\n\u001b[0;32m      9\u001b[0m     \u001b[1;32mdef\u001b[0m \u001b[0mfilter\u001b[0m\u001b[1;33m(\u001b[0m\u001b[0mself\u001b[0m\u001b[1;33m,\u001b[0m \u001b[0mreactions\u001b[0m\u001b[1;33m)\u001b[0m\u001b[1;33m:\u001b[0m\u001b[1;33m\u001b[0m\u001b[0m\n\u001b[0;32m     10\u001b[0m         \u001b[1;32mprint\u001b[0m \u001b[1;34m'''ENTERING FILTER'''\u001b[0m\u001b[1;33m\u001b[0m\u001b[0m\n\u001b[1;32m---> 11\u001b[1;33m         \u001b[0ma\u001b[0m \u001b[1;33m=\u001b[0m \u001b[0mself\u001b[0m\u001b[1;33m.\u001b[0m\u001b[0mmodel_container\u001b[0m\u001b[1;33m.\u001b[0m\u001b[0mpredict\u001b[0m\u001b[1;33m(\u001b[0m\u001b[0mreactions\u001b[0m\u001b[1;33m)\u001b[0m\u001b[1;31m#, verbose=True)\u001b[0m\u001b[1;33m\u001b[0m\u001b[0m\n\u001b[0m\u001b[0;32m     12\u001b[0m         \u001b[1;32mprint\u001b[0m \u001b[1;34m'''PREDICTIONS DONE'''\u001b[0m\u001b[1;33m\u001b[0m\u001b[0m\n\u001b[0;32m     13\u001b[0m         \u001b[0mplausible_reactions\u001b[0m \u001b[1;33m=\u001b[0m \u001b[1;33m[\u001b[0m\u001b[1;33m]\u001b[0m\u001b[1;33m\u001b[0m\u001b[0m\n",
      "\u001b[1;32m/home/rich/DRP/DRP/models/ModelContainer.pyc\u001b[0m in \u001b[0;36mpredict\u001b[1;34m(self, reactions, verbose)\u001b[0m\n\u001b[0;32m    574\u001b[0m                 \u001b[1;32mif\u001b[0m \u001b[0mverbose\u001b[0m\u001b[1;33m:\u001b[0m\u001b[1;33m\u001b[0m\u001b[0m\n\u001b[0;32m    575\u001b[0m                     \u001b[1;32mprint\u001b[0m \u001b[1;34m\"statsModel {}, saved at {}, predicting...\"\u001b[0m\u001b[1;33m.\u001b[0m\u001b[0mformat\u001b[0m\u001b[1;33m(\u001b[0m\u001b[0mmodel\u001b[0m\u001b[1;33m.\u001b[0m\u001b[0mpk\u001b[0m\u001b[1;33m,\u001b[0m \u001b[0mmodel\u001b[0m\u001b[1;33m.\u001b[0m\u001b[0moutputFile\u001b[0m\u001b[1;33m)\u001b[0m\u001b[1;33m\u001b[0m\u001b[0m\n\u001b[1;32m--> 576\u001b[1;33m                 \u001b[0mpredictions\u001b[0m \u001b[1;33m=\u001b[0m \u001b[0mmodelVisitor\u001b[0m\u001b[1;33m.\u001b[0m\u001b[0mpredict\u001b[0m\u001b[1;33m(\u001b[0m\u001b[0mreactions\u001b[0m\u001b[1;33m,\u001b[0m \u001b[0mverbose\u001b[0m\u001b[1;33m=\u001b[0m\u001b[0mverbose\u001b[0m\u001b[1;33m)\u001b[0m\u001b[1;33m\u001b[0m\u001b[0m\n\u001b[0m\u001b[0;32m    577\u001b[0m                 \u001b[1;32mif\u001b[0m \u001b[0mverbose\u001b[0m\u001b[1;33m:\u001b[0m\u001b[1;33m\u001b[0m\u001b[0m\n\u001b[0;32m    578\u001b[0m                     \u001b[1;32mprint\u001b[0m \u001b[1;34m\"\\t...finished predicting. Storing predictions...\"\u001b[0m\u001b[1;33m,\u001b[0m\u001b[1;33m\u001b[0m\u001b[0m\n",
      "\u001b[1;32m/home/rich/DRP/DRP/ml_models/model_visitors/weka/AbstractWekaModelVisitor.pyc\u001b[0m in \u001b[0;36mpredict\u001b[1;34m(self, reactions, verbose)\u001b[0m\n\u001b[0;32m    193\u001b[0m \u001b[1;33m\u001b[0m\u001b[0m\n\u001b[0;32m    194\u001b[0m         arff_file = self._prepareArff(\n\u001b[1;32m--> 195\u001b[1;33m             reactions, descriptorHeaders, verbose=verbose)\n\u001b[0m\u001b[0;32m    196\u001b[0m         \u001b[0mmodel_file\u001b[0m \u001b[1;33m=\u001b[0m \u001b[0mself\u001b[0m\u001b[1;33m.\u001b[0m\u001b[0mstatsModel\u001b[0m\u001b[1;33m.\u001b[0m\u001b[0moutputFile\u001b[0m\u001b[1;33m.\u001b[0m\u001b[0mname\u001b[0m\u001b[1;33m\u001b[0m\u001b[0m\n\u001b[0;32m    197\u001b[0m \u001b[1;33m\u001b[0m\u001b[0m\n",
      "\u001b[1;32m/home/rich/DRP/DRP/ml_models/model_visitors/weka/AbstractWekaModelVisitor.pyc\u001b[0m in \u001b[0;36m_prepareArff\u001b[1;34m(self, reactions, whitelistHeaders, verbose)\u001b[0m\n\u001b[0;32m     52\u001b[0m         \u001b[1;32mwith\u001b[0m \u001b[0mopen\u001b[0m\u001b[1;33m(\u001b[0m\u001b[0mfilepath\u001b[0m\u001b[1;33m,\u001b[0m \u001b[1;34m\"w\"\u001b[0m\u001b[1;33m)\u001b[0m \u001b[1;32mas\u001b[0m \u001b[0mf\u001b[0m\u001b[1;33m:\u001b[0m\u001b[1;33m\u001b[0m\u001b[0m\n\u001b[0;32m     53\u001b[0m             reactions.toArff(f, expanded=True,\n\u001b[1;32m---> 54\u001b[1;33m                              whitelistHeaders=whitelistHeaders)\n\u001b[0m\u001b[0;32m     55\u001b[0m         \u001b[1;32mreturn\u001b[0m \u001b[0mfilepath\u001b[0m\u001b[1;33m\u001b[0m\u001b[0m\n\u001b[0;32m     56\u001b[0m \u001b[1;33m\u001b[0m\u001b[0m\n",
      "\u001b[1;32m/home/rich/DRP/DRP/models/querysets.pyc\u001b[0m in \u001b[0;36mtoArff\u001b[1;34m(self, writeable, expanded, relationName, whitelistHeaders, missing)\u001b[0m\n\u001b[0;32m    188\u001b[0m \u001b[1;33m\u001b[0m\u001b[0m\n\u001b[0;32m    189\u001b[0m         \u001b[0mwriteable\u001b[0m\u001b[1;33m.\u001b[0m\u001b[0mwrite\u001b[0m\u001b[1;33m(\u001b[0m\u001b[1;34m'\\n\\n@data\\n'\u001b[0m\u001b[1;33m)\u001b[0m\u001b[1;33m\u001b[0m\u001b[0m\n\u001b[1;32m--> 190\u001b[1;33m         \u001b[1;32mfor\u001b[0m \u001b[0mrow\u001b[0m \u001b[1;32min\u001b[0m \u001b[0mself\u001b[0m\u001b[1;33m.\u001b[0m\u001b[0mrows\u001b[0m\u001b[1;33m(\u001b[0m\u001b[0mexpanded\u001b[0m\u001b[1;33m,\u001b[0m \u001b[0mwhitelistHeaders\u001b[0m\u001b[1;33m)\u001b[0m\u001b[1;33m:\u001b[0m\u001b[1;33m\u001b[0m\u001b[0m\n\u001b[0m\u001b[0;32m    191\u001b[0m             writeable.write(','.join(('\"' + str(row.get(key)) + '\"' if (row.get(key)\n\u001b[0;32m    192\u001b[0m                                                                         is not None) else missing) for key in headers.keys()))\n",
      "\u001b[1;32m/home/rich/DRP/DRP/models/Reaction.pyc\u001b[0m in \u001b[0;36mrows\u001b[1;34m(self, expanded, whitelist)\u001b[0m\n\u001b[0;32m    141\u001b[0m             \u001b[0mreactions\u001b[0m \u001b[1;33m=\u001b[0m \u001b[0mreactions\u001b[0m\u001b[1;33m.\u001b[0m\u001b[0mprefetch_related\u001b[0m\u001b[1;33m(\u001b[0m\u001b[1;34m'compounds'\u001b[0m\u001b[1;33m)\u001b[0m\u001b[1;33m\u001b[0m\u001b[0m\n\u001b[0;32m    142\u001b[0m \u001b[1;33m\u001b[0m\u001b[0m\n\u001b[1;32m--> 143\u001b[1;33m             \u001b[1;32mfor\u001b[0m \u001b[0mitem\u001b[0m \u001b[1;32min\u001b[0m \u001b[0mreactions\u001b[0m\u001b[1;33m.\u001b[0m\u001b[0mbatch_iterator\u001b[0m\u001b[1;33m(\u001b[0m\u001b[1;33m)\u001b[0m\u001b[1;33m:\u001b[0m\u001b[1;33m\u001b[0m\u001b[0m\n\u001b[0m\u001b[0;32m    144\u001b[0m                 row = {field.name: getattr(item, field.name)\n\u001b[0;32m    145\u001b[0m                        for field in self.model._meta.fields}\n",
      "\u001b[1;32m/home/rich/DRP/DRP/models/Reaction.pyc\u001b[0m in \u001b[0;36mbatch_iterator\u001b[1;34m(self, chunksize)\u001b[0m\n\u001b[0;32m    185\u001b[0m         \"\"\"\n\u001b[0;32m    186\u001b[0m         \u001b[0mpk\u001b[0m \u001b[1;33m=\u001b[0m \u001b[1;36m0\u001b[0m\u001b[1;33m\u001b[0m\u001b[0m\n\u001b[1;32m--> 187\u001b[1;33m         \u001b[0mlast_pk\u001b[0m \u001b[1;33m=\u001b[0m \u001b[0mself\u001b[0m\u001b[1;33m.\u001b[0m\u001b[0morder_by\u001b[0m\u001b[1;33m(\u001b[0m\u001b[1;34m'-pk'\u001b[0m\u001b[1;33m)\u001b[0m\u001b[1;33m[\u001b[0m\u001b[1;36m0\u001b[0m\u001b[1;33m]\u001b[0m\u001b[1;33m.\u001b[0m\u001b[0mpk\u001b[0m\u001b[1;33m\u001b[0m\u001b[0m\n\u001b[0m\u001b[0;32m    188\u001b[0m         \u001b[0mqueryset\u001b[0m \u001b[1;33m=\u001b[0m \u001b[0mself\u001b[0m\u001b[1;33m.\u001b[0m\u001b[0morder_by\u001b[0m\u001b[1;33m(\u001b[0m\u001b[1;34m'pk'\u001b[0m\u001b[1;33m)\u001b[0m\u001b[1;33m\u001b[0m\u001b[0m\n\u001b[0;32m    189\u001b[0m         \u001b[1;32mwhile\u001b[0m \u001b[0mpk\u001b[0m \u001b[1;33m<\u001b[0m \u001b[0mlast_pk\u001b[0m\u001b[1;33m:\u001b[0m\u001b[1;33m\u001b[0m\u001b[0m\n",
      "\u001b[1;32m/usr/local/lib/python2.7/dist-packages/django/db/models/query.pyc\u001b[0m in \u001b[0;36m__getitem__\u001b[1;34m(self, k)\u001b[0m\n\u001b[0;32m    199\u001b[0m         \u001b[0mqs\u001b[0m \u001b[1;33m=\u001b[0m \u001b[0mself\u001b[0m\u001b[1;33m.\u001b[0m\u001b[0m_clone\u001b[0m\u001b[1;33m(\u001b[0m\u001b[1;33m)\u001b[0m\u001b[1;33m\u001b[0m\u001b[0m\n\u001b[0;32m    200\u001b[0m         \u001b[0mqs\u001b[0m\u001b[1;33m.\u001b[0m\u001b[0mquery\u001b[0m\u001b[1;33m.\u001b[0m\u001b[0mset_limits\u001b[0m\u001b[1;33m(\u001b[0m\u001b[0mk\u001b[0m\u001b[1;33m,\u001b[0m \u001b[0mk\u001b[0m \u001b[1;33m+\u001b[0m \u001b[1;36m1\u001b[0m\u001b[1;33m)\u001b[0m\u001b[1;33m\u001b[0m\u001b[0m\n\u001b[1;32m--> 201\u001b[1;33m         \u001b[1;32mreturn\u001b[0m \u001b[0mlist\u001b[0m\u001b[1;33m(\u001b[0m\u001b[0mqs\u001b[0m\u001b[1;33m)\u001b[0m\u001b[1;33m[\u001b[0m\u001b[1;36m0\u001b[0m\u001b[1;33m]\u001b[0m\u001b[1;33m\u001b[0m\u001b[0m\n\u001b[0m\u001b[0;32m    202\u001b[0m \u001b[1;33m\u001b[0m\u001b[0m\n\u001b[0;32m    203\u001b[0m     \u001b[1;32mdef\u001b[0m \u001b[0m__and__\u001b[0m\u001b[1;33m(\u001b[0m\u001b[0mself\u001b[0m\u001b[1;33m,\u001b[0m \u001b[0mother\u001b[0m\u001b[1;33m)\u001b[0m\u001b[1;33m:\u001b[0m\u001b[1;33m\u001b[0m\u001b[0m\n",
      "\u001b[1;31mIndexError\u001b[0m: list index out of range"
     ]
    }
   ],
   "source": [
    "a.filter(Reaction.objects.filter(pk__range=(211890, 211990)))"
   ]
  },
  {
   "cell_type": "code",
   "execution_count": null,
   "metadata": {
    "collapsed": false
   },
   "outputs": [],
   "source": [
    "print type(Reaction.objects.filter(pk__range=(211890, 211990)))"
   ]
  },
  {
   "cell_type": "code",
   "execution_count": null,
   "metadata": {
    "collapsed": false
   },
   "outputs": [],
   "source": [
    "reactions = [Reaction.objects.filter(pk__range = (min(ex_id_list),max(ex_id_list)))]"
   ]
  },
  {
   "cell_type": "code",
   "execution_count": null,
   "metadata": {
    "collapsed": false
   },
   "outputs": [],
   "source": [
    "import numpy as np\n",
    "import pandas as pd\n",
    "\n",
    "from DRP.recommender.AbstractRecommender import AbstractRecommender\n",
    "from DRP.models import PerformedReaction\n",
    "from DRP.models import CompoundQuantity\n",
    "\n",
    "\n",
    "class Recommender(AbstractRecommender):\n",
    "    def __init__(self, model_container, grid_params, desired_desc_dict):\n",
    "        \"\"\"\n",
    "        All Descriptor Dicts use (Descriptor, Value List) pairs, where the\n",
    "        Value List is a list of any values this Descriptor should have.\n",
    "        \"\"\"\n",
    "        \n",
    "        self.generator = ReactionGenerator(*grid_params)\n",
    "        self.plausible_reactions = self.generator.generate()\n",
    "        reaction_ids = []\n",
    "        \n",
    "        for i in range(10000):\n",
    "            reaction_ids.append(self.plausible_reactions.next().pk)\n",
    "            \n",
    "        react_min = min(reaction_ids)\n",
    "        react_max = max(reaction_ids)\n",
    "        react_range = (react_min, react_max)\n",
    "        self.sieve = ReactionSieve(model_container, Reaction.objects.filter(pk__range=react_range), desired_desc_dict)\n",
    "        self.plausible_reactions =  Reaction.objects.filter(pk__range=react_range)\n",
    "\n",
    "        self.plausible_reactions = self.sieve.filter(Reaction.objects.filter(pk__range=react_range))\n",
    "        self.committed = []\n",
    "        \n",
    "        # TODO remove\n",
    "        self.desc_dict = grid_params[0]\n",
    "        self.compound_dict = grid_params[1]\n",
    "\n",
    "    def array_of_proposed_rxns(self):\n",
    "\n",
    "        self.existing_reactions = PerformedReaction.objects.all()\n",
    "        reac_descs = {}\n",
    "        df = pd.DataFrame(columns=self.compound_dict.keys() + self.desc_dict.keys())\n",
    "        \n",
    "        \n",
    "        # TODO figrue out how to deal with compound ammounts\n",
    "        for i in self.compound_dict:\n",
    "            compounds = []\n",
    "            for reaction in self.plausible_reactions:\n",
    "                compound_options = CompoundQuantity.objects.filter(reaction=reaction)\n",
    "                compounds += [compound.compound.name for compound in compound_options if Compound.objects.get(pk=compound.compound.pk) in self.compound_dict[i]]                \n",
    "            df[i] = pd.Series(compounds)\n",
    "        \n",
    "#         for i in self.desc_dict:\n",
    "#             desc_vals = []\n",
    "#             for reaction in self.plausible_reactions:\n",
    "#                 # TODO Expand beyond numeric descriptors\n",
    "#                 desc_vals.append(NumRxnDescriptorValue.objects.get(reaction=reaction,descriptor=i).value)\n",
    "#             vals_to_head = np.array(desc_vals)\n",
    "#             df[i] = pd.Series(vals_to_head)\n",
    "                        \n",
    "        return df.as_matrix()\n",
    "        \n",
    "    def build_matrix(self):\n",
    "        pass\n",
    "        \n",
    "        \n",
    "    def mutual_info(self):\n",
    "        pass\n",
    "\n",
    "    def recommend(self):\n",
    "        rxns = self.generator.generate()\n",
    "        desired_rxns = self.sieve.filter(rxns)\n",
    "        return desired_rxns\n",
    "    \n",
    "    \n",
    "    "
   ]
  },
  {
   "cell_type": "code",
   "execution_count": null,
   "metadata": {
    "collapsed": false,
    "scrolled": false
   },
   "outputs": [],
   "source": [
    "a = Recommender(ModelContainer.objects.get(pk=1),  GridValueGenerator().main(), {BoolRxnDescriptor.objects.get(pk=2):[True]})"
   ]
  },
  {
   "cell_type": "code",
   "execution_count": null,
   "metadata": {
    "collapsed": false,
    "scrolled": false
   },
   "outputs": [],
   "source": [
    "matrix = a.array_of_proposed_rxns()"
   ]
  },
  {
   "cell_type": "code",
   "execution_count": null,
   "metadata": {
    "collapsed": false,
    "scrolled": true
   },
   "outputs": [],
   "source": [
    "for i in matrix[0:500:20]:\n",
    "    print i"
   ]
  },
  {
   "cell_type": "code",
   "execution_count": null,
   "metadata": {
    "collapsed": true
   },
   "outputs": [],
   "source": [
    "def calc_MI(x, y, bins=5):\n",
    "    c_xy = np.histogram2d(x, y, bins)[0]\n",
    "    g, p, dof, expected = chi2_contingency(c_xy, lambda_=\"log-likelihood\")\n",
    "    mi = 0.5 * g / c_xy.sum()\n",
    "    return mi"
   ]
  },
  {
   "cell_type": "code",
   "execution_count": null,
   "metadata": {
    "collapsed": false
   },
   "outputs": [],
   "source": [
    "def find_least_MI(recommender, outcome_descriptor):\n",
    "    mutual_info_tuples = []\n",
    "    base_matrix = recommender.create_matrix()\n",
    "    for reaction in recommender.plausible_reactions:\n",
    "        the_array = []\n",
    "        for compounds in recommender.compound_dict:\n",
    "            compound_options = CompoundQuantity.objects.filter(reaction=reaction)\n",
    "            the_array += [compound.compound.name for compound in compound_options if Compound.objects.get(pk=compound.compound.pk) in recommender.compound_dict[compounds]]\n",
    "\n",
    "            desc_vals = []\n",
    "        for descriptor in recommender.desc_dict:\n",
    "            desc_vals.append(NumRxnDescriptorValue.objects.get(reaction=reaction,descriptor=descriptor).value)\n",
    "        \n",
    "        OrdRxnDescriptor.objects.get(pk=3)\n",
    "        \n",
    "        the_array += desc_vals\n",
    "        matrix2 = np.vstack([base_matrix,np.array(the_array)])\n",
    "#         matrix2 = the_array\n",
    "        mutual_info_tuples.append(calc_MI(base_matrix,matrix2))\n",
    "        return mutual_info_tuples\n",
    "            "
   ]
  },
  {
   "cell_type": "code",
   "execution_count": null,
   "metadata": {
    "collapsed": false
   },
   "outputs": [],
   "source": [
    "z = find_least_MI(a)"
   ]
  },
  {
   "cell_type": "code",
   "execution_count": null,
   "metadata": {
    "collapsed": true
   },
   "outputs": [],
   "source": [
    "print z"
   ]
  },
  {
   "cell_type": "code",
   "execution_count": null,
   "metadata": {
    "collapsed": false
   },
   "outputs": [],
   "source": [
    "from DRP.models import OrdRxnDescriptor"
   ]
  },
  {
   "cell_type": "code",
   "execution_count": null,
   "metadata": {
    "collapsed": false
   },
   "outputs": [],
   "source": [
    "for i in OrdRxnDescriptor.objects.all():\n",
    "    print i.pk, i"
   ]
  },
  {
   "cell_type": "code",
   "execution_count": null,
   "metadata": {
    "collapsed": true
   },
   "outputs": [],
   "source": [
    "OrdRxnDescriptor.objects.get(pk=3)"
   ]
  },
  {
   "cell_type": "code",
   "execution_count": null,
   "metadata": {
    "collapsed": true
   },
   "outputs": [],
   "source": []
  }
 ],
 "metadata": {
  "kernelspec": {
   "display_name": "Django Shell-Plus",
   "language": "python",
   "name": "django_extensions"
  },
  "language_info": {
   "codemirror_mode": {
    "name": "ipython",
    "version": 2
   },
   "file_extension": ".py",
   "mimetype": "text/x-python",
   "name": "python",
   "nbconvert_exporter": "python",
   "pygments_lexer": "ipython2",
   "version": "2.7.6"
  }
 },
 "nbformat": 4,
 "nbformat_minor": 0
}
