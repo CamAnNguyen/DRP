{
 "cells": [
  {
   "cell_type": "code",
   "execution_count": 1,
   "metadata": {
    "collapsed": true
   },
   "outputs": [],
   "source": [
    "from DRP.recommender.SampleGridParameters import GridValueGenerator"
   ]
  },
  {
   "cell_type": "code",
   "execution_count": 2,
   "metadata": {
    "collapsed": true
   },
   "outputs": [],
   "source": [
    "from DRP.recommender.ReactionGenerator import ReactionGenerator"
   ]
  },
  {
   "cell_type": "code",
   "execution_count": 3,
   "metadata": {
    "collapsed": false
   },
   "outputs": [],
   "source": [
    "a = GridValueGenerator().main()\n",
    "react_gen = ReactionGenerator(*a)"
   ]
  },
  {
   "cell_type": "code",
   "execution_count": 4,
   "metadata": {
    "collapsed": false
   },
   "outputs": [
    {
     "data": {
      "text/plain": [
       "<DRP.recommender.ReactionGenerator.ReactionGenerator at 0x7f68defd2090>"
      ]
     },
     "execution_count": 4,
     "metadata": {},
     "output_type": "execute_result"
    }
   ],
   "source": [
    "react_gen"
   ]
  },
  {
   "cell_type": "code",
   "execution_count": 5,
   "metadata": {
    "collapsed": true
   },
   "outputs": [],
   "source": [
    "example_list = []"
   ]
  },
  {
   "cell_type": "code",
   "execution_count": 6,
   "metadata": {
    "collapsed": false
   },
   "outputs": [],
   "source": [
    "count = 0\n",
    "for i in react_gen.generate():\n",
    "    count+=1\n",
    "    if count >= 100:\n",
    "        break\n",
    "    else:\n",
    "        example_list.append(i)\n",
    "    "
   ]
  },
  {
   "cell_type": "code",
   "execution_count": 8,
   "metadata": {
    "collapsed": false
   },
   "outputs": [],
   "source": [
    "from DRP.models import OrdRxnDescriptor"
   ]
  },
  {
   "cell_type": "code",
   "execution_count": 9,
   "metadata": {
    "collapsed": false
   },
   "outputs": [
    {
     "name": "stdout",
     "output_type": "stream",
     "text": [
      "1 Four class crystallisation outcome\n",
      "3 Two class crystallisation purity\n"
     ]
    }
   ],
   "source": [
    "for i in OrdRxnDescriptor.objects.all():\n",
    "    print i.pk, i"
   ]
  },
  {
   "cell_type": "code",
   "execution_count": 10,
   "metadata": {
    "collapsed": false
   },
   "outputs": [],
   "source": [
    "from DRP.models import NumRxnDescriptorValue\n",
    "from DRP.models import OrdRxnDescriptorValue"
   ]
  },
  {
   "cell_type": "code",
   "execution_count": 11,
   "metadata": {
    "collapsed": false
   },
   "outputs": [
    {
     "data": {
      "text/plain": [
       "[<NumRxnDescriptorValue: NumRxnDescriptorValue object>, <NumRxnDescriptorValue: NumRxnDescriptorValue object>, <NumRxnDescriptorValue: NumRxnDescriptorValue object>]"
      ]
     },
     "execution_count": 11,
     "metadata": {},
     "output_type": "execute_result"
    }
   ],
   "source": [
    "NumRxnDescriptorValue.objects.filter(reaction = example_list[0])"
   ]
  },
  {
   "cell_type": "code",
   "execution_count": 12,
   "metadata": {
    "collapsed": false
   },
   "outputs": [],
   "source": [
    "initial_len = len(NumRxnDescriptorValue.objects.all())"
   ]
  },
  {
   "cell_type": "code",
   "execution_count": 13,
   "metadata": {
    "collapsed": false
   },
   "outputs": [],
   "source": [
    "count = 0\n",
    "for i in react_gen.generate():\n",
    "    count+=1\n",
    "    if count >= 2:\n",
    "        break\n",
    "    else:\n",
    "        example_list.append(i)\n",
    "        \n",
    "assert(initial_len < len(NumRxnDescriptorValue.objects.all()))"
   ]
  },
  {
   "cell_type": "code",
   "execution_count": 14,
   "metadata": {
    "collapsed": false
   },
   "outputs": [
    {
     "data": {
      "text/plain": [
       "46207"
      ]
     },
     "execution_count": 14,
     "metadata": {},
     "output_type": "execute_result"
    }
   ],
   "source": [
    "initial_len"
   ]
  },
  {
   "cell_type": "code",
   "execution_count": 15,
   "metadata": {
    "collapsed": false
   },
   "outputs": [
    {
     "data": {
      "text/plain": [
       "46213"
      ]
     },
     "execution_count": 15,
     "metadata": {},
     "output_type": "execute_result"
    }
   ],
   "source": [
    "len(NumRxnDescriptorValue.objects.all())"
   ]
  },
  {
   "cell_type": "code",
   "execution_count": 16,
   "metadata": {
    "collapsed": false
   },
   "outputs": [
    {
     "data": {
      "text/plain": [
       "6"
      ]
     },
     "execution_count": 16,
     "metadata": {},
     "output_type": "execute_result"
    }
   ],
   "source": [
    "len(NumRxnDescriptorValue.objects.all())-initial_len"
   ]
  },
  {
   "cell_type": "code",
   "execution_count": 19,
   "metadata": {
    "collapsed": false,
    "scrolled": true
   },
   "outputs": [
    {
     "data": {
      "text/plain": [
       "[<Reaction: Reaction_161481>,\n",
       " <Reaction: Reaction_161482>,\n",
       " <Reaction: Reaction_161483>,\n",
       " <Reaction: Reaction_161484>,\n",
       " <Reaction: Reaction_161485>,\n",
       " <Reaction: Reaction_161486>,\n",
       " <Reaction: Reaction_161487>]"
      ]
     },
     "execution_count": 19,
     "metadata": {},
     "output_type": "execute_result"
    }
   ],
   "source": [
    "example_list[0:7]"
   ]
  },
  {
   "cell_type": "code",
   "execution_count": 23,
   "metadata": {
    "collapsed": true
   },
   "outputs": [],
   "source": [
    "from DRP.models import OrdRxnDescriptorValue\n",
    "\n",
    "\n",
    "class ReactionSieve(object):\n",
    "\n",
    "    def __init__(self, model_container, desired_desc_dict):\n",
    "      self.model_container = model_container\n",
    "      self.desired_desc_dict = desired_desc_dict\n",
    "    \n",
    "  \n",
    "\n",
    "    def filter(self, reactions):\n",
    "        self.model_container.predict(reactions)\n",
    "        for desc, desc_vals in self.desired_desc_dict.items():\n",
    "          reactions = filter(lambda rxn: rxn.descriptor_values.filter(value__in=desc_vals,descriptor=desc).exists(), reactions)\n",
    "        return reactions\n"
   ]
  },
  {
   "cell_type": "code",
   "execution_count": 22,
   "metadata": {
    "collapsed": false
   },
   "outputs": [],
   "source": [
    "from DRP.recommender.AbstractRecommender import AbstractRecommender\n",
    "\n",
    "class Recommender(AbstractRecommender):\n",
    "  def __init__(self, model_container, desc_dict, desired_desc_dict):\n",
    "    \"\"\"\n",
    "    All Descriptor Dicts use (Descriptor, Value List) pairs, where the\n",
    "    Value List is a list of any values this Descriptor should have.\n",
    "    \"\"\"\n",
    "    self.generator = ReactionGenerator(desc_dict)\n",
    "    self.sieve = ReactionSieve(model_container, desired_desc_dict)\n",
    "    \n",
    "  def recommend(self):\n",
    "    rxns = self.generator.generate()\n",
    "    desired_rxns = self.sieve.filter(rxns)\n",
    "    return desired_rxns"
   ]
  },
  {
   "cell_type": "code",
   "execution_count": null,
   "metadata": {
    "collapsed": true
   },
   "outputs": [],
   "source": []
  }
 ],
 "metadata": {
  "kernelspec": {
   "display_name": "Django Shell-Plus",
   "language": "python",
   "name": "django_extensions"
  },
  "language_info": {
   "codemirror_mode": {
    "name": "ipython",
    "version": 2
   },
   "file_extension": ".py",
   "mimetype": "text/x-python",
   "name": "python",
   "nbconvert_exporter": "python",
   "pygments_lexer": "ipython2",
   "version": "2.7.6"
  }
 },
 "nbformat": 4,
 "nbformat_minor": 0
}
