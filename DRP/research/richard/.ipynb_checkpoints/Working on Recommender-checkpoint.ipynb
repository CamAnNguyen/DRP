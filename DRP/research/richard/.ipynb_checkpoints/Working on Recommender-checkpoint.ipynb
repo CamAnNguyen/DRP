{
 "cells": [
  {
   "cell_type": "code",
   "execution_count": 1,
   "metadata": {
    "collapsed": false,
    "slideshow": {
     "slide_type": "subslide"
    }
   },
   "outputs": [],
   "source": [
    "from DRP.models import NumRxnDescriptorValue\n",
    "import DRP.recommender"
   ]
  },
  {
   "cell_type": "code",
   "execution_count": 2,
   "metadata": {
    "collapsed": true,
    "slideshow": {
     "slide_type": "fragment"
    }
   },
   "outputs": [],
   "source": [
    "numeric_descriptors_to_keep_constant = []\n",
    "numeric_descriptors_to_vary = [4,5,6]"
   ]
  },
  {
   "cell_type": "code",
   "execution_count": 3,
   "metadata": {
    "collapsed": false
   },
   "outputs": [],
   "source": [
    "from DRP.models import NumericDescriptor\n",
    "from DRP.models import OrdinalDescriptor"
   ]
  },
  {
   "cell_type": "code",
   "execution_count": 4,
   "metadata": {
    "collapsed": false
   },
   "outputs": [],
   "source": [
    "# for i in range(1000):\n",
    "#     print i, NumericDescriptor.objects.filter(pk = i)"
   ]
  },
  {
   "cell_type": "code",
   "execution_count": null,
   "metadata": {
    "collapsed": false
   },
   "outputs": [],
   "source": []
  },
  {
   "cell_type": "code",
   "execution_count": 5,
   "metadata": {
    "collapsed": false
   },
   "outputs": [],
   "source": [
    "# for i in NumRxnDescriptorValue.objects.filter(descriptor=4).order_by('reaction__pk').values_list('value', flat=True):\n",
    "#     print i\n"
   ]
  },
  {
   "cell_type": "code",
   "execution_count": 6,
   "metadata": {
    "collapsed": false
   },
   "outputs": [],
   "source": [
    "# NumRxnDescriptorValue.objects.all()"
   ]
  },
  {
   "cell_type": "code",
   "execution_count": 7,
   "metadata": {
    "collapsed": false
   },
   "outputs": [],
   "source": [
    "reaction_id = 33404\n",
    "desc_dict = {}\n",
    "for i in numeric_descriptors_to_vary:\n",
    "    desc_dict[NumericDescriptor.objects.get(pk = i)] = NumRxnDescriptorValue.objects.filter(reaction__pk = reaction_id, descriptor=i).values_list('value', flat=True)"
   ]
  },
  {
   "cell_type": "code",
   "execution_count": 8,
   "metadata": {
    "collapsed": false
   },
   "outputs": [],
   "source": [
    "# desc_dict"
   ]
  },
  {
   "cell_type": "code",
   "execution_count": 9,
   "metadata": {
    "collapsed": false
   },
   "outputs": [],
   "source": [
    "from DRP.models import ChemicalClass"
   ]
  },
  {
   "cell_type": "code",
   "execution_count": 10,
   "metadata": {
    "collapsed": false
   },
   "outputs": [],
   "source": [
    "inorg_a, inorg_b = (1,2)"
   ]
  },
  {
   "cell_type": "code",
   "execution_count": 11,
   "metadata": {
    "collapsed": false
   },
   "outputs": [
    {
     "data": {
      "text/plain": [
       "<NumericDescriptor: Reaction temperature in degrees C>"
      ]
     },
     "execution_count": 11,
     "metadata": {},
     "output_type": "execute_result"
    }
   ],
   "source": [
    "NumericDescriptor.objects.get(pk = 4)"
   ]
  },
  {
   "cell_type": "code",
   "execution_count": 12,
   "metadata": {
    "collapsed": false,
    "scrolled": false
   },
   "outputs": [],
   "source": [
    "from DRP.models import Compound\n",
    "a = Compound.objects.filter(chemicalClasses=1)"
   ]
  },
  {
   "cell_type": "code",
   "execution_count": 13,
   "metadata": {
    "collapsed": false
   },
   "outputs": [
    {
     "name": "stdout",
     "output_type": "stream",
     "text": [
      "Ammonium oxido(dioxo)vanadium 1\n",
      "Vanadium(V) oxide 2\n",
      "Selenium dioxide 7\n",
      "Oxovanadium(2+) sulfate 4\n",
      "Sodium metavanadate 3\n",
      "Disodium tellurite 5\n",
      "Sodium selenite 35\n",
      "sodium carbonate 8\n",
      "Lithium carbonate 11\n",
      "Molybdenum(VI) oxide 17\n",
      "Oxotellane oxide 10\n",
      "Iodic acid 160\n",
      "Zinc oxide 19\n",
      "Zinc nitrate 20\n",
      "digallium;oxygen(2-) 21\n",
      "Gallium trinitrate 22\n",
      "cobalt nitrate 23\n",
      "Potassium fluoride 217\n",
      "Ammonium fluoride 80\n",
      "potassium dichromate 79\n",
      "Sodium fluoride 26\n",
      "Hydrazine 51\n",
      "Molybdenum 18\n",
      "Sodium molybdate 25\n",
      "sodium tetraoxovanadate(3-) 56\n",
      "Copper(II) chloride dihydrate 9\n",
      "Disodium malonate 210\n",
      "Potassium oxido(dioxo)vanadium 24\n",
      "LiVTeO5 15\n",
      "NaVTeO5 6\n",
      "lithium;oxygen(2-);vanadium(5+) 12\n",
      "Sodium Pentafluorooxoniobate 83\n",
      "Potassium nitrate 33\n",
      "dioxoniobiooxy(dioxo)niobium 34\n",
      "Rutile 104\n",
      "Potassium chromate 105\n"
     ]
    }
   ],
   "source": [
    "for i in a:\n",
    "    print i.name, i.pk"
   ]
  },
  {
   "cell_type": "code",
   "execution_count": 14,
   "metadata": {
    "collapsed": true
   },
   "outputs": [],
   "source": [
    "a = Compound.objects.filter(chemicalClasses=4)"
   ]
  },
  {
   "cell_type": "code",
   "execution_count": 15,
   "metadata": {
    "collapsed": false
   },
   "outputs": [
    {
     "name": "stdout",
     "output_type": "stream",
     "text": [
      "1,3-Diaminopropane 38\n",
      "putrescine 39\n",
      "Cadaverine 40\n",
      "1,6-HEXANEDIAMINE 54\n",
      "Piperazine 41\n",
      "2,5-Dimethylpiperazine 46\n",
      "2-Piperazinoethylamine 140\n",
      "methylpiperazine 42\n",
      "2,6-Dimethylpiperazin 47\n",
      "1,4-Dimethylpiperazine 45\n",
      "1,4-Bis(3-aminopropyl)piperazine 32\n",
      "1,4-Diazepane 136\n",
      "Tris(2-aminoethyl)amine 43\n",
      "Diethylenetriamine 134\n",
      "Triethylenetetramine 135\n",
      "N,N′-dimethylethylenediamine 31\n",
      "TMEDA 50\n",
      "N-Ethyl-N,N'-dimethyl-1,2-ethanediamine 49\n",
      "Pyrazine 162\n",
      "methylpyrazine 144\n",
      "DABCO 37\n",
      "Hexamine 137\n",
      "1,2-Diaminopropane 52\n",
      "2-Methylpiperazine 44\n",
      "(R)-2-methylpiperazine 138\n",
      "(2S)-2-Methylpiperazine 139\n",
      "3-Aminoquinuclidine dihydrochloride 133\n",
      "(R)-(+)-3-Aminoquinuclidine 2HCl 14\n",
      "(3S)-quinuclidin-3-amine dichlorhydrate 141\n",
      "3-Pyrrolidinamine dihydrochloride 98\n",
      "(3S)-Pyrrolidin-3-amindihydrochlorid 185\n",
      "Piperidin-3-amindihydrochlorid 127\n",
      "(3R)-Piperidin-3-amindihydrochlorid 110\n",
      "(S)-3-Aminopiperidine 2HCl 111\n",
      "(3S)-3-Pyrrolidinamine 113\n",
      "2-(1-Piperidinyl)ethanamine 92\n",
      "1,4-dimethylpiperazine hydrochloride 142\n",
      "heptan-1,7-diamin 60\n",
      "1,8-Diaminooctane 55\n",
      "1-Ethylpiperazine 48\n",
      "cyclohexan-1,2-diamin 53\n",
      "Tetra-n-butylammonium bromide 151\n",
      "Imidazole 154\n",
      "Octane 156\n",
      "2-Octanamine 157\n",
      "nonan-1,9-diamin 59\n",
      "α,α′-diamino-p-xylene 65\n",
      "2,5-Dimethylpyrazine 145\n",
      "DL-Alanine 69\n",
      "n,n'-diethylethan-1,2-diamin 57\n",
      "Decan-1,10-diamin 78\n",
      "Ethylenediamine 36\n",
      "tetraethylenepentamine 164\n",
      "Ethanol 148\n",
      "L-(+)-Lysine 68\n",
      "3-Pyridinamine hydrochloride (1:1) 161\n",
      "pentaethylenehexamine 163\n",
      "1,7-diaminoheptane sulfate 61\n",
      "Isophorone diamine 129\n",
      "N,N-DIBUTYL-1,3-PROPANEDIAMINE 89\n",
      "1,3-Cyclohexanediyldimethanamine 121\n",
      "N,N-Diethylpropan-1,3-diamin 166\n",
      "1,3-Di-4-piperidylpropane 167\n",
      "N,N,N',N'-Tetramethyl-1,3-butanediamine 168\n",
      "bis(4-amino-3-methylcyclohexyl)methane 130\n",
      "2-Picolylamine 97\n",
      "3-(dimethylamino)-1-propylamine 95\n",
      "N,N,2,2-TETRAMETHYL-1,3-PROPANEDIAMINE 86\n",
      "Novoldiamine 87\n",
      "N-Propylethylenediamine 93\n",
      "1-Cyclohexylpiperazine 169\n",
      "4-(1-Pyrrolidinyl)piperidine 132\n",
      "4-Piperidinamine 99\n",
      "n,n'-diisopropyl-ethylenediamine 101\n",
      "2-Pyrrolidin-1-ylethanamine 123\n",
      "N,N'-DIMETHYL-1,6-HEXANEDIAMINE 172\n",
      "2,3-Dimethylpiperazin 173\n",
      "N-ISOPROPYL-1,3-PROPANEDIAMINE 96\n",
      "3-n-propylaminopropylamine 84\n",
      "N,N,N',N'-TETRAMETHYL-1,4-BUTANEDIAMINE 124\n",
      "N-Methylethanediamine 94\n",
      "N-Methyl-2-(2-aminoethyl)pyrrolidine 174\n",
      "2,2,6,6-Tetramethyl-4-piperidinamine 175\n",
      "4-Aminomethyl piperidine 90\n",
      "3-Dimethylamino-N-methylpropylamine 91\n",
      "N,N'-Dimethyl-1,3-propanediamine 102\n",
      "1-Butylpiperazine 180\n",
      "3-Aminomethyl piperidine 177\n",
      "3-Pyrrolidinopropylamine 178\n",
      "2-Piperidinamine 179\n",
      "N,N-Dimethyl-3-pyrrolidinamine 181\n",
      "N-Methyl-4-piperidinamine 176\n",
      "1-Octylpiperazine 100\n",
      "N-METHYL-1,3-PROPANEDIAMINE 85\n",
      "Spermine 182\n",
      "2,3,4-Collidine 184\n",
      "N,N'-Bis(2-aminoethyl)-1,2-ethanediamine hydrate (1:1) 150\n",
      "2-aminomethyl-1-ethylpyrrolidine 103\n",
      "2,2-Dimethyl-1,3-propanediamine 186\n",
      "2-amino-1-dimethylaminopropane 187\n",
      "4,4'-propane-1,3-diylbis(1-methylpiperidine) 188\n",
      "2-(1-Piperidinyl)-1-butanamine 189\n",
      "N,N,N',N`-Tetramethylhexanediamine 190\n",
      "2,2'-Bipyridine 58\n",
      "1-Butyl-3-methylimidazolium Bromide 218\n",
      "spermidine 194\n",
      "4-Methyl-1-piperazinamine 126\n",
      "Auramine O 119\n",
      "4-(1-Piperazinyl)aniline 118\n",
      "Pyrimidin-2,4,6-triamin 125\n",
      "(3-(Dimethylamino)propyl)ethylcarbodiimide 114\n",
      "N,N-Dimethyl-2-(1-piperazinyl)ethanamine 115\n",
      "4-Aminobenzamidine Dihydrochloride 116\n",
      "Cyclam 117\n",
      "N,N-Dimethyl-3-(1-piperazinyl)-1-propanamine 200\n",
      "1,3,5-Trimethyl-1,3,5-triazinane 128\n",
      "melamine 201\n",
      "2-Guanidinobenzimidazole 202\n",
      "Phthalimide diimide 203\n",
      "1-(1-Methyl-4-piperidinyl)piperazine 219\n",
      "butane-1,4-diaminium dichloride 131\n",
      "R-3-aminopyrrolidine dihydrochloride 225\n",
      "N,N,N′,N′-Tetramethyl-1,3-propanediamine 88\n",
      "diaminomethane 62\n",
      "1,4-Benzenediol hydrochloride (1:1) 215\n",
      "Hydroquinone 230\n",
      "DYTEK A amine 191\n"
     ]
    }
   ],
   "source": [
    "for i in a:\n",
    "    print i.name, i.pk"
   ]
  },
  {
   "cell_type": "code",
   "execution_count": 16,
   "metadata": {
    "collapsed": true
   },
   "outputs": [],
   "source": [
    "from DRP.models import Reaction"
   ]
  },
  {
   "cell_type": "code",
   "execution_count": 17,
   "metadata": {
    "collapsed": false
   },
   "outputs": [],
   "source": [
    "# for i in Reaction.objects.all():\n",
    "#     print i"
   ]
  },
  {
   "cell_type": "code",
   "execution_count": 18,
   "metadata": {
    "collapsed": false
   },
   "outputs": [
    {
     "data": {
      "text/plain": [
       "<Reaction: Reaction_33404>"
      ]
     },
     "execution_count": 18,
     "metadata": {},
     "output_type": "execute_result"
    }
   ],
   "source": [
    "Reaction.objects.get(id = reaction_id)"
   ]
  },
  {
   "cell_type": "code",
   "execution_count": 19,
   "metadata": {
    "collapsed": false
   },
   "outputs": [
    {
     "data": {
      "text/plain": [
       "[1260.0]"
      ]
     },
     "execution_count": 19,
     "metadata": {},
     "output_type": "execute_result"
    }
   ],
   "source": [
    "NumRxnDescriptorValue.objects.filter(descriptor=5).filter(reaction__pk=reaction_id).values_list('value', flat=True)"
   ]
  },
  {
   "cell_type": "code",
   "execution_count": 20,
   "metadata": {
    "collapsed": true
   },
   "outputs": [],
   "source": [
    "from DRP.models import CompoundQuantity, CompoundRole, Compound"
   ]
  },
  {
   "cell_type": "code",
   "execution_count": 21,
   "metadata": {
    "collapsed": false
   },
   "outputs": [
    {
     "name": "stdout",
     "output_type": "stream",
     "text": [
      "136113 0.760648173183\n",
      "121614 0.789642627862\n",
      "130758 1.4293285917\n",
      "145915 342.27033028\n"
     ]
    }
   ],
   "source": [
    "for i in CompoundQuantity.objects.filter(reaction__pk=reaction_id):\n",
    "    print i.pk, i.amount"
   ]
  },
  {
   "cell_type": "code",
   "execution_count": 22,
   "metadata": {
    "collapsed": false
   },
   "outputs": [
    {
     "name": "stdout",
     "output_type": "stream",
     "text": [
      "[<CompoundRole: Inorg>]\n",
      "[<CompoundRole: Org>]\n",
      "[<CompoundRole: Inorg>]\n",
      "[<CompoundRole: Solv>]\n"
     ]
    }
   ],
   "source": [
    "for i in CompoundQuantity.objects.filter(reaction__pk=reaction_id):\n",
    "    print CompoundRole.objects.filter(compoundquantity=i)"
   ]
  },
  {
   "cell_type": "code",
   "execution_count": 23,
   "metadata": {
    "collapsed": false
   },
   "outputs": [],
   "source": [
    "# for i in CompoundQuantity.objects.filter(reaction__pk=reaction_id):\n",
    "#     print Compound.objects.get(compoundquantity=i).name"
   ]
  },
  {
   "cell_type": "code",
   "execution_count": 24,
   "metadata": {
    "collapsed": false
   },
   "outputs": [
    {
     "name": "stdout",
     "output_type": "stream",
     "text": [
      "65408\n",
      "2\n",
      "Four class crystallisation outcome\n",
      "69427\n",
      "2\n",
      "Two class crystallisation purity\n"
     ]
    }
   ],
   "source": [
    "from DRP.models import OrdRxnDescriptorValue\n",
    "for i in OrdRxnDescriptorValue.objects.filter(descriptor_id=1, \n",
    "                                              reaction_id=reaction_id):\n",
    "    print i.pk\n",
    "    print i.value\n",
    "    print i.descriptor.name\n",
    "    desc_dict['outcome'] = [i]\n",
    "\n",
    "for i in OrdRxnDescriptorValue.objects.filter(descriptor_id=3, \n",
    "                                              reaction_id=reaction_id):\n",
    "    print i.pk\n",
    "    print i.value\n",
    "    print i.descriptor.name\n",
    "    desc_dict['outcome'].append(i)"
   ]
  },
  {
   "cell_type": "code",
   "execution_count": 25,
   "metadata": {
    "collapsed": false
   },
   "outputs": [],
   "source": [
    "######RREECCOOMMMMMEENNDDEERR  SSTTUFFF#####"
   ]
  },
  {
   "cell_type": "code",
   "execution_count": 26,
   "metadata": {
    "collapsed": false
   },
   "outputs": [
    {
     "data": {
      "text/plain": [
       "{<NumericDescriptor: Reaction temperature in degrees C>: [363.15],\n",
       " <NumericDescriptor: Reaction time in minutes>: [1260.0],\n",
       " <NumericDescriptor: Reaction pH>: [7.0],\n",
       " 'outcome': [<OrdRxnDescriptorValue: OrdRxnDescriptorValue object>,\n",
       "  <OrdRxnDescriptorValue: OrdRxnDescriptorValue object>]}"
      ]
     },
     "execution_count": 26,
     "metadata": {},
     "output_type": "execute_result"
    }
   ],
   "source": [
    "import DRP.recommender as reactrec \n",
    "desc_dict"
   ]
  },
  {
   "cell_type": "code",
   "execution_count": 27,
   "metadata": {
    "collapsed": false
   },
   "outputs": [],
   "source": [
    "desired_desc_dict = {desc_dict['outcome'][0]}"
   ]
  },
  {
   "cell_type": "code",
   "execution_count": 28,
   "metadata": {
    "collapsed": false
   },
   "outputs": [
    {
     "data": {
      "text/plain": [
       "{<OrdRxnDescriptorValue: OrdRxnDescriptorValue object>}"
      ]
     },
     "execution_count": 28,
     "metadata": {},
     "output_type": "execute_result"
    }
   ],
   "source": [
    "desired_desc_dict"
   ]
  },
  {
   "cell_type": "code",
   "execution_count": 29,
   "metadata": {
    "collapsed": true
   },
   "outputs": [],
   "source": [
    "# GET MODEL "
   ]
  },
  {
   "cell_type": "code",
   "execution_count": null,
   "metadata": {
    "collapsed": true
   },
   "outputs": [],
   "source": []
  },
  {
   "cell_type": "code",
   "execution_count": 30,
   "metadata": {
    "collapsed": true
   },
   "outputs": [],
   "source": [
    "# Have model will work for generating needs"
   ]
  },
  {
   "cell_type": "code",
   "execution_count": 31,
   "metadata": {
    "collapsed": true
   },
   "outputs": [],
   "source": [
    "from random import sample\n",
    "from DRP.models import CompoundRole\n",
    "import numpy as np"
   ]
  },
  {
   "cell_type": "code",
   "execution_count": 32,
   "metadata": {
    "collapsed": false
   },
   "outputs": [],
   "source": [
    "# from DRP.models import NumericDescriptor\n",
    "# for i in NumericDescriptor.objects.all():\n",
    "#     print i, i.pk"
   ]
  },
  {
   "cell_type": "code",
   "execution_count": 33,
   "metadata": {
    "collapsed": true
   },
   "outputs": [],
   "source": [
    "class GridValueOptions:\n",
    "    \"\"\"Currently just sets some expected grid steps as constants and searches for reactants and there ammounts to vary.\"\"\"\n",
    "    def __init__(self):\n",
    "        self.desc_dict = {}\n",
    "        self.compounddict = {}\n",
    "        self.compound_amounts_dict = {}\n",
    "        self.compound_roles = {} #Change if a compound can have more than one role in a reaction\n",
    "        \n",
    "    def vary_manual(self):\n",
    "        self.desc_dict[NumericDescriptor.objects.get(pk=6)] = [1, 2, 3] #, 5, 7, 8]\n",
    "        self.desc_dict[NumericDescriptor.objects.get(pk=5)] = [1440, 3600]#, 4140, 5040]\n",
    "        self.desc_dict[NumericDescriptor.objects.get(pk=4)] = [363.15, 423.15]#, 473.15]\n",
    "        \n",
    "    def vary_compound(self):\n",
    "        inorg1 = None\n",
    "        inorg2 = None\n",
    "        org = None\n",
    "        #TODO Add water / solvent\n",
    "        \n",
    "        a = Compound.objects.filter(chemicalClasses=4)\n",
    "        \n",
    "        org = sample(a,5)\n",
    "                    \n",
    "        b = Compound.objects.filter(chemicalClasses=1)\n",
    "        \n",
    "        #assuming inorg = inorg2\n",
    "        inorg = sample(b, 6)\n",
    "\n",
    "        inorg2= inorg[:3]\n",
    "        inorg1=inorg[3:]\n",
    "        \n",
    "        \n",
    "        def get_reasonable_compound_amounts(compounds, role):\n",
    "            \"\"\"Take a list of compound objects and return a dictionary of compounds to reasonable amounts\"\"\"\n",
    "            compound_dict = {}\n",
    "            for compound in compounds:\n",
    "                quantities = CompoundQuantity.objects.filter(compound=compound, role=role).exclude(amount=None)\n",
    "                self.compound_roles[compound] = CompoundRole.objects.get(pk = role)\n",
    "                quantities = [quantity.amount for quantity in quantities]\n",
    "                quantities = np.array(quantities)\n",
    "#                 try:\n",
    "                mean_quantity = np.mean(quantities)\n",
    "#                 except:\n",
    "#                     for i in quantities:\n",
    "#                         print i\n",
    "#                         assert(isinstance(i, float))\n",
    "#                     assert(False)\n",
    "                quantity_sd = np.std(quantities)\n",
    "                sample_quantities = [mean_quantity - 2 * quantity_sd, mean_quantity - quantity_sd, mean_quantity, mean_quantity + quantity_sd, mean_quantity + 2 * quantity_sd]\n",
    "                sample_quantities = [sq for sq in sample_quantities if sq > 0]\n",
    "                compound_dict[compound] = sample_quantities\n",
    "            return compound_dict\n",
    "        \n",
    "        self.compounddict[\"inorg1\"] = inorg1\n",
    "        self.compounddict[\"inorg2\"] = inorg2\n",
    "        self.compounddict[\"org\"] = org\n",
    "\n",
    "        \n",
    "        inorg1 = get_reasonable_compound_amounts(inorg1, 6)\n",
    "        inorg2 = get_reasonable_compound_amounts(inorg2, 6)\n",
    "        org = get_reasonable_compound_amounts(org, 7)\n",
    "\n",
    "        self.compound_amounts_dict.update(inorg1)\n",
    "        self.compound_amounts_dict.update(inorg2)\n",
    "        self.compound_amounts_dict.update(org)\n",
    "        \n",
    "    def main(self):\n",
    "        self.vary_manual()\n",
    "        self.vary_compound()\n",
    "        return self.desc_dict, self.compounddict, self.compound_amounts_dict, self.compound_roles\n",
    "        "
   ]
  },
  {
   "cell_type": "code",
   "execution_count": 34,
   "metadata": {
    "collapsed": false
   },
   "outputs": [
    {
     "data": {
      "text/plain": [
       "5"
      ]
     },
     "execution_count": 34,
     "metadata": {},
     "output_type": "execute_result"
    }
   ],
   "source": [
    "a = GridValueOptions()\n",
    "a.main()\n",
    "5"
   ]
  },
  {
   "cell_type": "code",
   "execution_count": 35,
   "metadata": {
    "collapsed": false
   },
   "outputs": [
    {
     "name": "stdout",
     "output_type": "stream",
     "text": [
      "org\n",
      "inorg1\n",
      "inorg2\n",
      "[<Compound: Compound object>, <Compound: Compound object>, <Compound: Compound object>, <Compound: Compound object>, <Compound: Compound object>]\n",
      "[1.2514973204680413, 2.7692937278274594, 4.2870901351868778]\n"
     ]
    }
   ],
   "source": [
    "for i in a.compounddict:\n",
    "    print i\n",
    "    \n",
    "print a.compounddict['org']\n",
    "print a.compound_amounts_dict[list(a.compounddict['org'])[4]]"
   ]
  },
  {
   "cell_type": "code",
   "execution_count": 36,
   "metadata": {
    "collapsed": false
   },
   "outputs": [
    {
     "name": "stdout",
     "output_type": "stream",
     "text": [
      "6 Inorg\n",
      "7 Org\n",
      "8 Solv\n",
      "9 Ox\n",
      "13 pH\n"
     ]
    }
   ],
   "source": [
    "for i in CompoundRole.objects.all():\n",
    "    print i.pk, i"
   ]
  },
  {
   "cell_type": "code",
   "execution_count": 37,
   "metadata": {
    "collapsed": false
   },
   "outputs": [],
   "source": [
    "from DRP.recommender.ReactionGenerator import ReactionGenerator"
   ]
  },
  {
   "cell_type": "code",
   "execution_count": 38,
   "metadata": {
    "collapsed": false
   },
   "outputs": [
    {
     "name": "stdout",
     "output_type": "stream",
     "text": [
      "<type 'generator'>\n"
     ]
    }
   ],
   "source": [
    "react_gen = (ReactionGenerator(*a.main()))\n",
    "print type(react_gen.generate())\n",
    "# print react_gen.generate()"
   ]
  },
  {
   "cell_type": "code",
   "execution_count": 41,
   "metadata": {
    "collapsed": false
   },
   "outputs": [
    {
     "ename": "KeyboardInterrupt",
     "evalue": "",
     "output_type": "error",
     "traceback": [
      "\u001b[1;31m---------------------------------------------------------------------------\u001b[0m",
      "\u001b[1;31mKeyboardInterrupt\u001b[0m                         Traceback (most recent call last)",
      "\u001b[1;32m<ipython-input-41-38c3ef35116b>\u001b[0m in \u001b[0;36m<module>\u001b[1;34m()\u001b[0m\n\u001b[0;32m      5\u001b[0m \u001b[1;33m\u001b[0m\u001b[0m\n\u001b[0;32m      6\u001b[0m \u001b[0mcount\u001b[0m \u001b[1;33m=\u001b[0m \u001b[1;36m0\u001b[0m\u001b[1;33m\u001b[0m\u001b[0m\n\u001b[1;32m----> 7\u001b[1;33m \u001b[1;32mfor\u001b[0m \u001b[0mrec_react\u001b[0m \u001b[1;32min\u001b[0m \u001b[0mreact_gen\u001b[0m\u001b[1;33m.\u001b[0m\u001b[0mgenerate\u001b[0m\u001b[1;33m(\u001b[0m\u001b[1;33m)\u001b[0m\u001b[1;33m:\u001b[0m\u001b[1;33m\u001b[0m\u001b[0m\n\u001b[0m\u001b[0;32m      8\u001b[0m     \u001b[0mcount\u001b[0m \u001b[1;33m+=\u001b[0m \u001b[1;36m1\u001b[0m\u001b[1;33m\u001b[0m\u001b[0m\n\u001b[0;32m      9\u001b[0m     \u001b[1;32mif\u001b[0m \u001b[0mcount\u001b[0m \u001b[1;33m%\u001b[0m \u001b[1;36m200\u001b[0m \u001b[1;33m==\u001b[0m \u001b[1;36m0\u001b[0m\u001b[1;33m:\u001b[0m\u001b[1;33m\u001b[0m\u001b[0m\n",
      "\u001b[1;32m/home/rich/DRP/DRP/recommender/ReactionGenerator.py\u001b[0m in \u001b[0;36mgenerate\u001b[1;34m(self)\u001b[0m\n\u001b[0;32m     64\u001b[0m                         \u001b[0mcompound_quantity\u001b[0m\u001b[1;33m.\u001b[0m\u001b[0mamount\u001b[0m \u001b[1;33m=\u001b[0m \u001b[0mamount\u001b[0m\u001b[1;33m\u001b[0m\u001b[0m\n\u001b[0;32m     65\u001b[0m \u001b[1;33m\u001b[0m\u001b[0m\n\u001b[1;32m---> 66\u001b[1;33m                         \u001b[0mcompound_quantity\u001b[0m\u001b[1;33m.\u001b[0m\u001b[0msave\u001b[0m\u001b[1;33m(\u001b[0m\u001b[1;33m)\u001b[0m\u001b[1;33m\u001b[0m\u001b[0m\n\u001b[0m\u001b[0;32m     67\u001b[0m \u001b[1;33m\u001b[0m\u001b[0m\n\u001b[0;32m     68\u001b[0m                     \u001b[1;32myield\u001b[0m \u001b[0mnew_rxn\u001b[0m\u001b[1;33m\u001b[0m\u001b[0m\n",
      "\u001b[1;32m/home/rich/DRP/DRP/models/CompoundQuantity.pyc\u001b[0m in \u001b[0;36msave\u001b[1;34m(self, *args, **kwargs)\u001b[0m\n\u001b[0;32m     41\u001b[0m \u001b[1;33m\u001b[0m\u001b[0m\n\u001b[0;32m     42\u001b[0m     \u001b[1;32mdef\u001b[0m \u001b[0msave\u001b[0m\u001b[1;33m(\u001b[0m\u001b[0mself\u001b[0m\u001b[1;33m,\u001b[0m \u001b[1;33m*\u001b[0m\u001b[0margs\u001b[0m\u001b[1;33m,\u001b[0m \u001b[1;33m**\u001b[0m\u001b[0mkwargs\u001b[0m\u001b[1;33m)\u001b[0m\u001b[1;33m:\u001b[0m\u001b[1;33m\u001b[0m\u001b[0m\n\u001b[1;32m---> 43\u001b[1;33m         \u001b[0mself\u001b[0m\u001b[1;33m.\u001b[0m\u001b[0mreaction\u001b[0m\u001b[1;33m.\u001b[0m\u001b[0msave\u001b[0m\u001b[1;33m(\u001b[0m\u001b[1;33m)\u001b[0m \u001b[1;31m#descriptor recalculation\u001b[0m\u001b[1;33m\u001b[0m\u001b[0m\n\u001b[0m\u001b[0;32m     44\u001b[0m         \u001b[1;32mtry\u001b[0m\u001b[1;33m:\u001b[0m\u001b[1;33m\u001b[0m\u001b[0m\n\u001b[0;32m     45\u001b[0m             \u001b[0mself\u001b[0m\u001b[1;33m.\u001b[0m\u001b[0mreaction\u001b[0m\u001b[1;33m.\u001b[0m\u001b[0mperformedreaction\u001b[0m\u001b[1;33m.\u001b[0m\u001b[0msave\u001b[0m\u001b[1;33m(\u001b[0m\u001b[1;33m)\u001b[0m \u001b[1;31m#invalidate models\u001b[0m\u001b[1;33m\u001b[0m\u001b[0m\n",
      "\u001b[1;32m/home/rich/DRP/DRP/models/Reaction.pyc\u001b[0m in \u001b[0;36msave\u001b[1;34m(self, calcDescriptors, *args, **kwargs)\u001b[0m\n\u001b[0;32m    202\u001b[0m \u001b[1;33m\u001b[0m\u001b[0m\n\u001b[0;32m    203\u001b[0m     \u001b[1;32mdef\u001b[0m \u001b[0msave\u001b[0m\u001b[1;33m(\u001b[0m\u001b[0mself\u001b[0m\u001b[1;33m,\u001b[0m \u001b[0mcalcDescriptors\u001b[0m\u001b[1;33m=\u001b[0m\u001b[0mFalse\u001b[0m\u001b[1;33m,\u001b[0m \u001b[1;33m*\u001b[0m\u001b[0margs\u001b[0m\u001b[1;33m,\u001b[0m \u001b[1;33m**\u001b[0m\u001b[0mkwargs\u001b[0m\u001b[1;33m)\u001b[0m\u001b[1;33m:\u001b[0m\u001b[1;33m\u001b[0m\u001b[0m\n\u001b[1;32m--> 204\u001b[1;33m         \u001b[0msuper\u001b[0m\u001b[1;33m(\u001b[0m\u001b[0mReaction\u001b[0m\u001b[1;33m,\u001b[0m \u001b[0mself\u001b[0m\u001b[1;33m)\u001b[0m\u001b[1;33m.\u001b[0m\u001b[0msave\u001b[0m\u001b[1;33m(\u001b[0m\u001b[1;33m*\u001b[0m\u001b[0margs\u001b[0m\u001b[1;33m,\u001b[0m \u001b[1;33m**\u001b[0m\u001b[0mkwargs\u001b[0m\u001b[1;33m)\u001b[0m\u001b[1;33m\u001b[0m\u001b[0m\n\u001b[0m\u001b[0;32m    205\u001b[0m         \u001b[1;32mif\u001b[0m \u001b[0mcalcDescriptors\u001b[0m \u001b[1;32mand\u001b[0m \u001b[0mself\u001b[0m\u001b[1;33m.\u001b[0m\u001b[0mcalcDescriptors\u001b[0m\u001b[1;33m:\u001b[0m\u001b[1;33m\u001b[0m\u001b[0m\n\u001b[0;32m    206\u001b[0m             \u001b[1;32mfor\u001b[0m \u001b[0mplugin\u001b[0m \u001b[1;32min\u001b[0m \u001b[0mdescriptorPlugins\u001b[0m\u001b[1;33m:\u001b[0m\u001b[1;33m\u001b[0m\u001b[0m\n",
      "\u001b[1;32m/usr/local/lib/python2.7/dist-packages/django/db/models/base.pyc\u001b[0m in \u001b[0;36msave\u001b[1;34m(self, force_insert, force_update, using, update_fields)\u001b[0m\n\u001b[0;32m    708\u001b[0m \u001b[1;33m\u001b[0m\u001b[0m\n\u001b[0;32m    709\u001b[0m         self.save_base(using=using, force_insert=force_insert,\n\u001b[1;32m--> 710\u001b[1;33m                        force_update=force_update, update_fields=update_fields)\n\u001b[0m\u001b[0;32m    711\u001b[0m     \u001b[0msave\u001b[0m\u001b[1;33m.\u001b[0m\u001b[0malters_data\u001b[0m \u001b[1;33m=\u001b[0m \u001b[0mTrue\u001b[0m\u001b[1;33m\u001b[0m\u001b[0m\n\u001b[0;32m    712\u001b[0m \u001b[1;33m\u001b[0m\u001b[0m\n",
      "\u001b[1;32m/usr/local/lib/python2.7/dist-packages/django/db/models/base.pyc\u001b[0m in \u001b[0;36msave_base\u001b[1;34m(self, raw, force_insert, force_update, using, update_fields)\u001b[0m\n\u001b[0;32m    736\u001b[0m             \u001b[1;32mif\u001b[0m \u001b[1;32mnot\u001b[0m \u001b[0mraw\u001b[0m\u001b[1;33m:\u001b[0m\u001b[1;33m\u001b[0m\u001b[0m\n\u001b[0;32m    737\u001b[0m                 \u001b[0mself\u001b[0m\u001b[1;33m.\u001b[0m\u001b[0m_save_parents\u001b[0m\u001b[1;33m(\u001b[0m\u001b[0mcls\u001b[0m\u001b[1;33m,\u001b[0m \u001b[0musing\u001b[0m\u001b[1;33m,\u001b[0m \u001b[0mupdate_fields\u001b[0m\u001b[1;33m)\u001b[0m\u001b[1;33m\u001b[0m\u001b[0m\n\u001b[1;32m--> 738\u001b[1;33m             \u001b[0mupdated\u001b[0m \u001b[1;33m=\u001b[0m \u001b[0mself\u001b[0m\u001b[1;33m.\u001b[0m\u001b[0m_save_table\u001b[0m\u001b[1;33m(\u001b[0m\u001b[0mraw\u001b[0m\u001b[1;33m,\u001b[0m \u001b[0mcls\u001b[0m\u001b[1;33m,\u001b[0m \u001b[0mforce_insert\u001b[0m\u001b[1;33m,\u001b[0m \u001b[0mforce_update\u001b[0m\u001b[1;33m,\u001b[0m \u001b[0musing\u001b[0m\u001b[1;33m,\u001b[0m \u001b[0mupdate_fields\u001b[0m\u001b[1;33m)\u001b[0m\u001b[1;33m\u001b[0m\u001b[0m\n\u001b[0m\u001b[0;32m    739\u001b[0m         \u001b[1;31m# Store the database on which the object was saved\u001b[0m\u001b[1;33m\u001b[0m\u001b[1;33m\u001b[0m\u001b[0m\n\u001b[0;32m    740\u001b[0m         \u001b[0mself\u001b[0m\u001b[1;33m.\u001b[0m\u001b[0m_state\u001b[0m\u001b[1;33m.\u001b[0m\u001b[0mdb\u001b[0m \u001b[1;33m=\u001b[0m \u001b[0musing\u001b[0m\u001b[1;33m\u001b[0m\u001b[0m\n",
      "\u001b[1;32m/usr/local/lib/python2.7/dist-packages/django/db/transaction.pyc\u001b[0m in \u001b[0;36m__exit__\u001b[1;34m(self, exc_type, exc_value, traceback)\u001b[0m\n\u001b[0;32m    230\u001b[0m                     \u001b[1;31m# Commit transaction\u001b[0m\u001b[1;33m\u001b[0m\u001b[1;33m\u001b[0m\u001b[0m\n\u001b[0;32m    231\u001b[0m                     \u001b[1;32mtry\u001b[0m\u001b[1;33m:\u001b[0m\u001b[1;33m\u001b[0m\u001b[0m\n\u001b[1;32m--> 232\u001b[1;33m                         \u001b[0mconnection\u001b[0m\u001b[1;33m.\u001b[0m\u001b[0mcommit\u001b[0m\u001b[1;33m(\u001b[0m\u001b[1;33m)\u001b[0m\u001b[1;33m\u001b[0m\u001b[0m\n\u001b[0m\u001b[0;32m    233\u001b[0m                     \u001b[1;32mexcept\u001b[0m \u001b[0mDatabaseError\u001b[0m\u001b[1;33m:\u001b[0m\u001b[1;33m\u001b[0m\u001b[0m\n\u001b[0;32m    234\u001b[0m                         \u001b[1;32mtry\u001b[0m\u001b[1;33m:\u001b[0m\u001b[1;33m\u001b[0m\u001b[0m\n",
      "\u001b[1;32m/usr/local/lib/python2.7/dist-packages/django/db/backends/base/base.pyc\u001b[0m in \u001b[0;36mcommit\u001b[1;34m(self)\u001b[0m\n\u001b[0;32m    171\u001b[0m         \u001b[0mself\u001b[0m\u001b[1;33m.\u001b[0m\u001b[0mvalidate_thread_sharing\u001b[0m\u001b[1;33m(\u001b[0m\u001b[1;33m)\u001b[0m\u001b[1;33m\u001b[0m\u001b[0m\n\u001b[0;32m    172\u001b[0m         \u001b[0mself\u001b[0m\u001b[1;33m.\u001b[0m\u001b[0mvalidate_no_atomic_block\u001b[0m\u001b[1;33m(\u001b[0m\u001b[1;33m)\u001b[0m\u001b[1;33m\u001b[0m\u001b[0m\n\u001b[1;32m--> 173\u001b[1;33m         \u001b[0mself\u001b[0m\u001b[1;33m.\u001b[0m\u001b[0m_commit\u001b[0m\u001b[1;33m(\u001b[0m\u001b[1;33m)\u001b[0m\u001b[1;33m\u001b[0m\u001b[0m\n\u001b[0m\u001b[0;32m    174\u001b[0m         \u001b[1;31m# A successful commit means that the database connection works.\u001b[0m\u001b[1;33m\u001b[0m\u001b[1;33m\u001b[0m\u001b[0m\n\u001b[0;32m    175\u001b[0m         \u001b[0mself\u001b[0m\u001b[1;33m.\u001b[0m\u001b[0merrors_occurred\u001b[0m \u001b[1;33m=\u001b[0m \u001b[0mFalse\u001b[0m\u001b[1;33m\u001b[0m\u001b[0m\n",
      "\u001b[1;32m/usr/local/lib/python2.7/dist-packages/django/db/backends/base/base.pyc\u001b[0m in \u001b[0;36m_commit\u001b[1;34m(self)\u001b[0m\n\u001b[0;32m    140\u001b[0m         \u001b[1;32mif\u001b[0m \u001b[0mself\u001b[0m\u001b[1;33m.\u001b[0m\u001b[0mconnection\u001b[0m \u001b[1;32mis\u001b[0m \u001b[1;32mnot\u001b[0m \u001b[0mNone\u001b[0m\u001b[1;33m:\u001b[0m\u001b[1;33m\u001b[0m\u001b[0m\n\u001b[0;32m    141\u001b[0m             \u001b[1;32mwith\u001b[0m \u001b[0mself\u001b[0m\u001b[1;33m.\u001b[0m\u001b[0mwrap_database_errors\u001b[0m\u001b[1;33m:\u001b[0m\u001b[1;33m\u001b[0m\u001b[0m\n\u001b[1;32m--> 142\u001b[1;33m                 \u001b[1;32mreturn\u001b[0m \u001b[0mself\u001b[0m\u001b[1;33m.\u001b[0m\u001b[0mconnection\u001b[0m\u001b[1;33m.\u001b[0m\u001b[0mcommit\u001b[0m\u001b[1;33m(\u001b[0m\u001b[1;33m)\u001b[0m\u001b[1;33m\u001b[0m\u001b[0m\n\u001b[0m\u001b[0;32m    143\u001b[0m \u001b[1;33m\u001b[0m\u001b[0m\n\u001b[0;32m    144\u001b[0m     \u001b[1;32mdef\u001b[0m \u001b[0m_rollback\u001b[0m\u001b[1;33m(\u001b[0m\u001b[0mself\u001b[0m\u001b[1;33m)\u001b[0m\u001b[1;33m:\u001b[0m\u001b[1;33m\u001b[0m\u001b[0m\n",
      "\u001b[1;31mKeyboardInterrupt\u001b[0m: "
     ]
    }
   ],
   "source": [
    "import gc\n",
    "import time\n",
    "\n",
    "start_time = time.time()\n",
    "\n",
    "count = 0\n",
    "for rec_react in react_gen.generate():\n",
    "    count += 1\n",
    "    if count % 200 == 0:\n",
    "        gc.collect()\n",
    "    elif count == 2000:\n",
    "        break\n",
    "\n",
    "a = (time.time() - start_time)\n",
    "print a\n",
    "print a/2000\n",
    "    \n"
   ]
  },
  {
   "cell_type": "code",
   "execution_count": null,
   "metadata": {
    "collapsed": true
   },
   "outputs": [],
   "source": []
  }
 ],
 "metadata": {
  "kernelspec": {
   "display_name": "Django Shell-Plus",
   "language": "python",
   "name": "django_extensions"
  },
  "language_info": {
   "codemirror_mode": {
    "name": "ipython",
    "version": 2
   },
   "file_extension": ".py",
   "mimetype": "text/x-python",
   "name": "python",
   "nbconvert_exporter": "python",
   "pygments_lexer": "ipython2",
   "version": "2.7.6"
  }
 },
 "nbformat": 4,
 "nbformat_minor": 0
}
